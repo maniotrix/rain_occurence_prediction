{
 "cells": [
  {
   "cell_type": "code",
   "execution_count": 2,
   "metadata": {},
   "outputs": [],
   "source": [
    "import numpy as np\n",
    "import matplotlib.pyplot as plt\n",
    "import pandas as pd\n",
    "from sklearn.metrics import classification_report, accuracy_score, confusion_matrix\n",
    "from sklearn.naive_bayes import BernoulliNB\n",
    "from sklearn.tree import DecisionTreeClassifier\n",
    "from sklearn.ensemble import RandomForestClassifier\n",
    "from itertools import product\n",
    "\n"
   ]
  },
  {
   "cell_type": "code",
   "execution_count": 3,
   "metadata": {},
   "outputs": [],
   "source": [
    "dataset = pd.read_csv('weather.csv')\n",
    "flabels  = list(dataset)"
   ]
  },
  {
   "cell_type": "code",
   "execution_count": 4,
   "metadata": {},
   "outputs": [],
   "source": [
    "X = dataset.iloc[:, :-1].values\n",
    "Y = dataset.iloc[:, -1].values"
   ]
  },
  {
   "cell_type": "code",
   "execution_count": 5,
   "metadata": {},
   "outputs": [],
   "source": [
    "#Splitting the dataset into the Training Set and Test Set \n",
    "from sklearn.model_selection import train_test_split\n",
    "X_train, X_test, Y_train, Y_test = train_test_split(X, Y, test_size =0.33, random_state=1234)"
   ]
  },
  {
   "cell_type": "code",
   "execution_count": 6,
   "metadata": {},
   "outputs": [
    {
     "name": "stdout",
     "output_type": "stream",
     "text": [
      "(1819, 43) (897, 43) (1819,) (897,)\n"
     ]
    }
   ],
   "source": [
    "print(X_train.shape, X_test.shape, Y_train.shape, Y_test.shape)"
   ]
  },
  {
   "cell_type": "markdown",
   "metadata": {},
   "source": [
    "## Question\t2:\tNaïve\tBayes\n",
    "Train a Naïve Bayes classifier to predict RainTomorrow.\n",
    "As all attributes are binary vectors, use the BernoulliNB classifier provided by scikit-learn."
   ]
  },
  {
   "cell_type": "code",
   "execution_count": 7,
   "metadata": {},
   "outputs": [
    {
     "data": {
      "text/plain": [
       "BernoulliNB(alpha=1.0, binarize=0.0, class_prior=None, fit_prior=True)"
      ]
     },
     "execution_count": 7,
     "metadata": {},
     "output_type": "execute_result"
    }
   ],
   "source": [
    "clf2 = BernoulliNB()\n",
    "clf2.fit(X_train, Y_train)"
   ]
  },
  {
   "cell_type": "code",
   "execution_count": 8,
   "metadata": {},
   "outputs": [
    {
     "name": "stdout",
     "output_type": "stream",
     "text": [
      "[0 1] [1234.  585.]\n"
     ]
    }
   ],
   "source": [
    "print(clf2.classes_, clf2.class_count_)"
   ]
  },
  {
   "cell_type": "code",
   "execution_count": 9,
   "metadata": {},
   "outputs": [],
   "source": [
    "Y_train_pred = clf2.predict(X_train)\n",
    "Y_test_pred = clf2.predict(X_test)"
   ]
  },
  {
   "cell_type": "code",
   "execution_count": 10,
   "metadata": {},
   "outputs": [
    {
     "name": "stdout",
     "output_type": "stream",
     "text": [
      "Correctly predicted on TRAINING SET: 1376, errors:443\n"
     ]
    }
   ],
   "source": [
    "print('Correctly predicted on TRAINING SET: {}, errors:{}'.format(sum(Y_train==Y_train_pred), sum(Y_train!=Y_train_pred)))"
   ]
  },
  {
   "cell_type": "code",
   "execution_count": 13,
   "metadata": {},
   "outputs": [
    {
     "name": "stdout",
     "output_type": "stream",
     "text": [
      "Correctly predicted on TEST set: 668, errors:229\n"
     ]
    }
   ],
   "source": [
    "print('Correctly predicted on TEST set: {}, errors:{}'.format(sum(Y_test==Y_test_pred), sum(Y_test!=Y_test_pred)))"
   ]
  },
  {
   "cell_type": "code",
   "execution_count": 11,
   "metadata": {},
   "outputs": [
    {
     "name": "stdout",
     "output_type": "stream",
     "text": [
      "             precision    recall  f1-score   support\n",
      "\n",
      "          0       0.86      0.76      0.81      1234\n",
      "          1       0.60      0.74      0.66       585\n",
      "\n",
      "avg / total       0.78      0.76      0.76      1819\n",
      "\n",
      "Accuracy on TRAINING set: 0.76\n"
     ]
    }
   ],
   "source": [
    "print(classification_report(Y_train,Y_train_pred))\n",
    "print('Accuracy on TRAINING set: {:.2f}'.format(accuracy_score(Y_train, Y_train_pred)))"
   ]
  },
  {
   "cell_type": "code",
   "execution_count": 13,
   "metadata": {},
   "outputs": [
    {
     "name": "stdout",
     "output_type": "stream",
     "text": [
      "             precision    recall  f1-score   support\n",
      "\n",
      "          0       0.85      0.76      0.80       607\n",
      "          1       0.59      0.71      0.64       290\n",
      "\n",
      "avg / total       0.76      0.74      0.75       897\n",
      "\n",
      "Accuracy on TEST set: 0.74\n"
     ]
    }
   ],
   "source": [
    "print(classification_report(Y_test, Y_test_pred))\n",
    "print('Accuracy on TEST set: {:.2f}'.format(accuracy_score(Y_test, Y_test_pred)))"
   ]
  },
  {
   "cell_type": "code",
   "execution_count": 14,
   "metadata": {},
   "outputs": [
    {
     "name": "stdout",
     "output_type": "stream",
     "text": [
      "Confused Matrix:[ TRAINING ] \n",
      "   0   1 <-- PREDICTED LABEL\n",
      "[[942 292]\n",
      " [151 434]]\n"
     ]
    }
   ],
   "source": [
    "print(\"Confused Matrix:[ TRAINING ] \\n\",\" \".join([\"{:3d}\".format(d) for d in clf2.classes_]),\"<-- PREDICTED LABEL\")\n",
    "print(confusion_matrix(Y_train, Y_train_pred, labels=clf2.classes_))"
   ]
  },
  {
   "cell_type": "code",
   "execution_count": 15,
   "metadata": {},
   "outputs": [
    {
     "name": "stdout",
     "output_type": "stream",
     "text": [
      "Confused Matrix:[ TEST ] \n",
      "   0   1 <-- PREDICTED LABEL\n",
      "[[462 145]\n",
      " [ 84 206]]\n"
     ]
    }
   ],
   "source": [
    "print(\"Confused Matrix:[ TEST ] \\n\",\" \".join([\"{:3d}\".format(d) for d in clf2.classes_]),\"<-- PREDICTED LABEL\")\n",
    "print(confusion_matrix(Y_test, Y_test_pred, labels=clf2.classes_))"
   ]
  },
  {
   "cell_type": "code",
   "execution_count": 16,
   "metadata": {},
   "outputs": [
    {
     "name": "stdout",
     "output_type": "stream",
     "text": [
      "[0.00307416 0.99692584]\n"
     ]
    }
   ],
   "source": [
    "Y_pred_proba = clf2.predict_proba(X_test)\n",
    "print(Y_pred_proba[0])"
   ]
  },
  {
   "cell_type": "markdown",
   "metadata": {},
   "source": [
    "# Question\t3:\tDecision\tTree\n",
    "Train a DecisionTreeClassifier to predict RainTomorrow. Use argument class_weight=’balanced’ when\n",
    "constructing the classifier, as the target variable RainTomorrow is not equally distributed in the data set."
   ]
  },
  {
   "cell_type": "code",
   "execution_count": 17,
   "metadata": {},
   "outputs": [
    {
     "data": {
      "text/plain": [
       "DecisionTreeClassifier(class_weight='balanced', criterion='gini',\n",
       "            max_depth=None, max_features=None, max_leaf_nodes=None,\n",
       "            min_impurity_decrease=0.0, min_impurity_split=None,\n",
       "            min_samples_leaf=1, min_samples_split=2,\n",
       "            min_weight_fraction_leaf=0.0, presort=False, random_state=None,\n",
       "            splitter='best')"
      ]
     },
     "execution_count": 17,
     "metadata": {},
     "output_type": "execute_result"
    }
   ],
   "source": [
    "dtclf = DecisionTreeClassifier(class_weight = \"balanced\",)\n",
    "dtclf.fit(X_train, Y_train)"
   ]
  },
  {
   "cell_type": "code",
   "execution_count": 18,
   "metadata": {},
   "outputs": [
    {
     "name": "stdout",
     "output_type": "stream",
     "text": [
      "[0 1]\n"
     ]
    }
   ],
   "source": [
    "print(dtclf.classes_)"
   ]
  },
  {
   "cell_type": "code",
   "execution_count": 19,
   "metadata": {},
   "outputs": [],
   "source": [
    "dt_Y_train_pred = dtclf.predict(X_train)\n",
    "dt_Y_test_pred = dtclf.predict(X_test)"
   ]
  },
  {
   "cell_type": "code",
   "execution_count": 20,
   "metadata": {},
   "outputs": [
    {
     "name": "stdout",
     "output_type": "stream",
     "text": [
      "Correctly predicted on TRAINING SET: 1794, errors:25\n"
     ]
    }
   ],
   "source": [
    "print('Correctly predicted on TRAINING SET: {}, errors:{}'.\n",
    "      format(sum(Y_train==dt_Y_train_pred), sum(Y_train!=dt_Y_train_pred)))"
   ]
  },
  {
   "cell_type": "code",
   "execution_count": 21,
   "metadata": {},
   "outputs": [
    {
     "name": "stdout",
     "output_type": "stream",
     "text": [
      "Correctly predicted on TEST set: 615, errors:282\n"
     ]
    }
   ],
   "source": [
    "print('Correctly predicted on TEST set: {}, errors:{}'.format(sum(Y_test==dt_Y_test_pred), sum(Y_test!=dt_Y_test_pred)))"
   ]
  },
  {
   "cell_type": "code",
   "execution_count": 22,
   "metadata": {},
   "outputs": [
    {
     "name": "stdout",
     "output_type": "stream",
     "text": [
      "             precision    recall  f1-score   support\n",
      "\n",
      "          0       1.00      0.98      0.99      1234\n",
      "          1       0.96      1.00      0.98       585\n",
      "\n",
      "avg / total       0.99      0.99      0.99      1819\n",
      "\n",
      "Accuracy on TRAINING set: 0.99\n"
     ]
    }
   ],
   "source": [
    "print(classification_report(Y_train,dt_Y_train_pred))\n",
    "print('Accuracy on TRAINING set: {:.2f}'.format(accuracy_score(Y_train, dt_Y_train_pred)))"
   ]
  },
  {
   "cell_type": "code",
   "execution_count": 23,
   "metadata": {},
   "outputs": [
    {
     "name": "stdout",
     "output_type": "stream",
     "text": [
      "             precision    recall  f1-score   support\n",
      "\n",
      "          0       0.78      0.75      0.76       607\n",
      "          1       0.51      0.55      0.53       290\n",
      "\n",
      "avg / total       0.69      0.69      0.69       897\n",
      "\n",
      "Accuracy on TEST set: 0.69\n"
     ]
    }
   ],
   "source": [
    "print(classification_report(Y_test, dt_Y_test_pred))\n",
    "print('Accuracy on TEST set: {:.2f}'.format(accuracy_score(Y_test, dt_Y_test_pred)))"
   ]
  },
  {
   "cell_type": "code",
   "execution_count": 24,
   "metadata": {},
   "outputs": [
    {
     "name": "stdout",
     "output_type": "stream",
     "text": [
      "Confused Matrix:[ TRAINING ] \n",
      "   0   1 <-- PREDICTED LABEL\n",
      "[[1209   25]\n",
      " [   0  585]]\n"
     ]
    }
   ],
   "source": [
    "print(\"Confused Matrix:[ TRAINING ] \\n\",\" \".join([\"{:3d}\".format(d) for d in dtclf.classes_]),\"<-- PREDICTED LABEL\")\n",
    "print(confusion_matrix(Y_train, dt_Y_train_pred, labels=dtclf.classes_))"
   ]
  },
  {
   "cell_type": "code",
   "execution_count": 25,
   "metadata": {},
   "outputs": [
    {
     "name": "stdout",
     "output_type": "stream",
     "text": [
      "Confused Matrix:[ TEST ] \n",
      "   0   1 <-- PREDICTED LABEL\n",
      "[[456 151]\n",
      " [131 159]]\n"
     ]
    }
   ],
   "source": [
    "print(\"Confused Matrix:[ TEST ] \\n\",\" \".join([\"{:3d}\".format(d) for d in dtclf.classes_]),\"<-- PREDICTED LABEL\")\n",
    "print(confusion_matrix(Y_test, dt_Y_test_pred, labels=dtclf.classes_))"
   ]
  },
  {
   "cell_type": "code",
   "execution_count": 26,
   "metadata": {},
   "outputs": [
    {
     "name": "stdout",
     "output_type": "stream",
     "text": [
      "[0. 1.]\n"
     ]
    }
   ],
   "source": [
    "dt_Y_pred_proba = dtclf.predict_proba(X_test)\n",
    "print(dt_Y_pred_proba[0])"
   ]
  },
  {
   "cell_type": "markdown",
   "metadata": {},
   "source": [
    "# Question\t4:\tDiagnosis\n",
    "Does the Decision Tree model suffer from overfitting or underfitting? Justify why/why not.\n",
    "If the model exhibits overfitting or underfitting, revise your training procedure to remedy the problem, and\n",
    "re-evaluate the improved model. The DecisionTreeClassifier has a number of parameters that you can\n",
    "consider for tuning the model:\n",
    "\n",
    "* max_depth: maximum depth of the tree\n",
    "* min_samples_leaf: minimum number of samples in each leaf node\n",
    "* max_leaf_nodes: maximum number of leaf nodes\n",
    "\n",
    "## Answer : Our Decision Tree model Suffers from ovefitting."
   ]
  },
  {
   "cell_type": "markdown",
   "metadata": {},
   "source": [
    "First, we try to find out the best parameters for our decision tree:"
   ]
  },
  {
   "cell_type": "code",
   "execution_count": 28,
   "metadata": {},
   "outputs": [],
   "source": [
    "max_msl = max_md = max_mnl = max_acc = None\n",
    "\n",
    "for msl, md, mnl in product(range(2,15), range(5, 50, 5), range(5, 100, 10)):\n",
    "    options = dict(min_samples_leaf=msl, max_depth=md, max_leaf_nodes=mnl)\n",
    "    clf3 = DecisionTreeClassifier(class_weight = \"balanced\", **options)\n",
    "    clf3.fit(X_train, Y_train)\n",
    "\n",
    "    Y_test_pred = clf3.predict(X_test)\n",
    "    \n",
    "    curr_acc = accuracy_score(Y_test, Y_test_pred)\n",
    "    if max_acc == None or max_acc < curr_acc:\n",
    "        max_msl, max_md, max_mnl, max_acc = msl, md, mnl, curr_acc"
   ]
  },
  {
   "cell_type": "markdown",
   "metadata": {},
   "source": [
    "Then we use those parameters to evaluate the performance of our new model with best params:"
   ]
  },
  {
   "cell_type": "code",
   "execution_count": 29,
   "metadata": {},
   "outputs": [
    {
     "name": "stdout",
     "output_type": "stream",
     "text": [
      "             precision    recall  f1-score   support\n",
      "\n",
      "          0       0.86      0.77      0.82      1234\n",
      "          1       0.61      0.74      0.67       585\n",
      "\n",
      "avg / total       0.78      0.76      0.77      1819\n",
      "\n",
      "Accuracy on TRAINING set: 0.76\n",
      "\n",
      "             precision    recall  f1-score   support\n",
      "\n",
      "          0       0.83      0.78      0.80       607\n",
      "          1       0.59      0.67      0.63       290\n",
      "\n",
      "avg / total       0.75      0.74      0.75       897\n",
      "\n",
      "Accuracy on TEST set: 0.74\n",
      "\n",
      "Confused Matrix[ TRAINING ]: \n",
      "   0   1 <-- PREDICTED LABEL\n",
      "[[954 280]\n",
      " [153 432]]\n",
      "Confused Matrix[ TEST ]: \n",
      "   0   1 <-- PREDICTED LABEL\n",
      "[[471 136]\n",
      " [ 95 195]]\n"
     ]
    }
   ],
   "source": [
    "best_params = dict(min_samples_leaf=max_msl, max_depth=max_md, max_leaf_nodes=max_mnl)\n",
    "\n",
    "clf3 = DecisionTreeClassifier(class_weight = \"balanced\", **best_params)\n",
    "clf3.fit(X_train, Y_train)\n",
    "\n",
    "dtb_Y_train_pred = clf3.predict(X_train)\n",
    "dtb_Y_test_pred = clf3.predict(X_test)\n",
    "\n",
    "print(classification_report(Y_train,dtb_Y_train_pred))\n",
    "print('Accuracy on TRAINING set: {:.2f}'.format(accuracy_score(Y_train,dtb_Y_train_pred))+\"\\n\")\n",
    "\n",
    "print(classification_report(Y_test, dtb_Y_test_pred))\n",
    "print('Accuracy on TEST set: {:.2f}'.format(accuracy_score(Y_test, dtb_Y_test_pred))+\"\\n\")\n",
    "\n",
    "print(\"Confused Matrix[ TRAINING ]: \\n\",\" \".join([\"{:3d}\".format(d) for d in clf3.classes_]),\"<-- PREDICTED LABEL\")\n",
    "print(confusion_matrix(Y_train, dtb_Y_train_pred, labels=clf3.classes_))\n",
    "\n",
    "print(\"Confused Matrix[ TEST ]: \\n\",\" \".join([\"{:3d}\".format(d) for d in clf3.classes_]),\"<-- PREDICTED LABEL\")\n",
    "print(confusion_matrix(Y_test, dtb_Y_test_pred, labels=clf3.classes_))"
   ]
  },
  {
   "cell_type": "code",
   "execution_count": 30,
   "metadata": {},
   "outputs": [
    {
     "name": "stdout",
     "output_type": "stream",
     "text": [
      "[0.22749908 0.77250092]\n"
     ]
    }
   ],
   "source": [
    "dt_Y_pred_proba = clf3.predict_proba(X_test)\n",
    "print(dt_Y_pred_proba[0])"
   ]
  },
  {
   "cell_type": "markdown",
   "metadata": {},
   "source": [
    "### Random Forest"
   ]
  },
  {
   "cell_type": "code",
   "execution_count": 31,
   "metadata": {},
   "outputs": [
    {
     "data": {
      "text/plain": [
       "RandomForestClassifier(bootstrap=True, class_weight=None, criterion='gini',\n",
       "            max_depth=2, max_features='auto', max_leaf_nodes=None,\n",
       "            min_impurity_decrease=0.0, min_impurity_split=None,\n",
       "            min_samples_leaf=1, min_samples_split=2,\n",
       "            min_weight_fraction_leaf=0.0, n_estimators=10, n_jobs=1,\n",
       "            oob_score=False, random_state=0, verbose=0, warm_start=False)"
      ]
     },
     "execution_count": 31,
     "metadata": {},
     "output_type": "execute_result"
    }
   ],
   "source": [
    "rclf  = RandomForestClassifier(max_depth=2, random_state=0)\n",
    "rclf.fit(X_train, Y_train)"
   ]
  },
  {
   "cell_type": "code",
   "execution_count": 32,
   "metadata": {},
   "outputs": [
    {
     "name": "stdout",
     "output_type": "stream",
     "text": [
      "[0 1]\n"
     ]
    }
   ],
   "source": [
    "print(rclf.classes_)"
   ]
  },
  {
   "cell_type": "code",
   "execution_count": 33,
   "metadata": {},
   "outputs": [],
   "source": [
    "r_Y_train_pred = rclf.predict(X_train)\n",
    "r_Y_test_pred = rclf.predict(X_test)"
   ]
  },
  {
   "cell_type": "code",
   "execution_count": 34,
   "metadata": {},
   "outputs": [
    {
     "name": "stdout",
     "output_type": "stream",
     "text": [
      "Correctly predicted on TRAINING SET: 1413, errors:406\n"
     ]
    }
   ],
   "source": [
    "print('Correctly predicted on TRAINING SET: {}, errors:{}'.\n",
    "      format(sum(Y_train==r_Y_train_pred), sum(Y_train!=r_Y_train_pred)))"
   ]
  },
  {
   "cell_type": "code",
   "execution_count": 35,
   "metadata": {},
   "outputs": [
    {
     "name": "stdout",
     "output_type": "stream",
     "text": [
      "Correctly predicted on TEST set: 696, errors:201\n"
     ]
    }
   ],
   "source": [
    "print('Correctly predicted on TEST set: {}, errors:{}'.format(sum(Y_test==r_Y_test_pred), sum(Y_test!=r_Y_test_pred)))"
   ]
  },
  {
   "cell_type": "code",
   "execution_count": 36,
   "metadata": {},
   "outputs": [
    {
     "name": "stdout",
     "output_type": "stream",
     "text": [
      "             precision    recall  f1-score   support\n",
      "\n",
      "          0       0.78      0.93      0.85      1234\n",
      "          1       0.75      0.46      0.57       585\n",
      "\n",
      "avg / total       0.77      0.78      0.76      1819\n",
      "\n",
      "Accuracy on TRAINING set: 0.78\n"
     ]
    }
   ],
   "source": [
    "print(classification_report(Y_train,r_Y_train_pred))\n",
    "print('Accuracy on TRAINING set: {:.2f}'.format(accuracy_score(Y_train, r_Y_train_pred)))"
   ]
  },
  {
   "cell_type": "code",
   "execution_count": 37,
   "metadata": {},
   "outputs": [
    {
     "name": "stdout",
     "output_type": "stream",
     "text": [
      "             precision    recall  f1-score   support\n",
      "\n",
      "          0       0.78      0.93      0.85       607\n",
      "          1       0.75      0.46      0.57       290\n",
      "\n",
      "avg / total       0.77      0.78      0.76       897\n",
      "\n",
      "Accuracy on TEST set: 0.78\n"
     ]
    }
   ],
   "source": [
    "print(classification_report(Y_test, r_Y_test_pred))\n",
    "print('Accuracy on TEST set: {:.2f}'.format(accuracy_score(Y_test, r_Y_test_pred)))"
   ]
  },
  {
   "cell_type": "code",
   "execution_count": 38,
   "metadata": {},
   "outputs": [
    {
     "name": "stdout",
     "output_type": "stream",
     "text": [
      "Confused Matrix:[ TRAINING ] \n",
      "   0   1 <-- PREDICTED LABEL\n",
      "[[1144   90]\n",
      " [ 316  269]]\n"
     ]
    }
   ],
   "source": [
    "print(\"Confused Matrix:[ TRAINING ] \\n\",\" \".join([\"{:3d}\".format(d) for d in rclf.classes_]),\"<-- PREDICTED LABEL\")\n",
    "print(confusion_matrix(Y_train, r_Y_train_pred, labels=rclf.classes_))"
   ]
  },
  {
   "cell_type": "code",
   "execution_count": 39,
   "metadata": {},
   "outputs": [
    {
     "name": "stdout",
     "output_type": "stream",
     "text": [
      "Confused Matrix:[ TEST ] \n",
      "   0   1 <-- PREDICTED LABEL\n",
      "[[562  45]\n",
      " [156 134]]\n"
     ]
    }
   ],
   "source": [
    "print(\"Confused Matrix:[ TEST ] \\n\",\" \".join([\"{:3d}\".format(d) for d in rclf.classes_]),\"<-- PREDICTED LABEL\")\n",
    "print(confusion_matrix(Y_test, r_Y_test_pred, labels=rclf.classes_))"
   ]
  },
  {
   "cell_type": "code",
   "execution_count": 40,
   "metadata": {},
   "outputs": [
    {
     "name": "stdout",
     "output_type": "stream",
     "text": [
      "[0.44341298 0.55658702]\n"
     ]
    }
   ],
   "source": [
    "r_Y_pred_proba = rclf.predict_proba(X_test)\n",
    "print(r_Y_pred_proba[0])"
   ]
  }
 ],
 "metadata": {
  "kernelspec": {
   "display_name": "Python 3",
   "language": "python",
   "name": "python3"
  },
  "language_info": {
   "codemirror_mode": {
    "name": "ipython",
    "version": 3
   },
   "file_extension": ".py",
   "mimetype": "text/x-python",
   "name": "python",
   "nbconvert_exporter": "python",
   "pygments_lexer": "ipython3",
   "version": "3.6.5"
  }
 },
 "nbformat": 4,
 "nbformat_minor": 2
}
