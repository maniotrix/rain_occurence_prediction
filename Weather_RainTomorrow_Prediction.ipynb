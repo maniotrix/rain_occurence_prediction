{
 "cells": [
  {
   "cell_type": "code",
   "execution_count": 2,
   "metadata": {},
   "outputs": [],
   "source": [
    "import numpy as np\n",
    "import matplotlib.pyplot as plt\n",
    "import pandas as pd\n",
    "from sklearn.metrics import classification_report, accuracy_score, confusion_matrix\n",
    "from sklearn.naive_bayes import BernoulliNB\n",
    "from sklearn.tree import DecisionTreeClassifier\n",
    "from sklearn.ensemble import RandomForestClassifier\n",
    "from itertools import product\n",
    "\n",
    "import dtutils"
   ]
  },
  {
   "cell_type": "code",
   "execution_count": 3,
   "metadata": {},
   "outputs": [],
   "source": [
    "dataset = pd.read_csv('weather.csv')\n",
    "flabels  = list(dataset)"
   ]
  },
  {
   "cell_type": "code",
   "execution_count": 4,
   "metadata": {},
   "outputs": [],
   "source": [
    "X = dataset.iloc[:, :-1].values\n",
    "Y = dataset.iloc[:, -1].values"
   ]
  },
  {
   "cell_type": "code",
   "execution_count": 5,
   "metadata": {},
   "outputs": [],
   "source": [
    "#Splitting the dataset into the Training Set and Test Set \n",
    "from sklearn.model_selection import train_test_split\n",
    "X_train, X_test, Y_train, Y_test = train_test_split(X, Y, test_size =0.33, random_state=1234)"
   ]
  },
  {
   "cell_type": "code",
   "execution_count": 6,
   "metadata": {},
   "outputs": [
    {
     "name": "stdout",
     "output_type": "stream",
     "text": [
      "(1819, 43) (897, 43) (1819,) (897,)\n"
     ]
    }
   ],
   "source": [
    "print(X_train.shape, X_test.shape, Y_train.shape, Y_test.shape)"
   ]
  },
  {
   "cell_type": "markdown",
   "metadata": {},
   "source": [
    "## Question\t2:\tNaïve\tBayes\n",
    "Train a Naïve Bayes classifier to predict RainTomorrow.\n",
    "As all attributes are binary vectors, use the BernoulliNB classifier provided by scikit-learn."
   ]
  },
  {
   "cell_type": "code",
   "execution_count": 7,
   "metadata": {},
   "outputs": [
    {
     "data": {
      "text/plain": [
       "BernoulliNB(alpha=1.0, binarize=0.0, class_prior=None, fit_prior=True)"
      ]
     },
     "execution_count": 7,
     "metadata": {},
     "output_type": "execute_result"
    }
   ],
   "source": [
    "clf2 = BernoulliNB()\n",
    "clf2.fit(X_train, Y_train)"
   ]
  },
  {
   "cell_type": "code",
   "execution_count": 8,
   "metadata": {},
   "outputs": [
    {
     "name": "stdout",
     "output_type": "stream",
     "text": [
      "[0 1] [1234.  585.]\n"
     ]
    }
   ],
   "source": [
    "print(clf2.classes_, clf2.class_count_)"
   ]
  },
  {
   "cell_type": "code",
   "execution_count": 9,
   "metadata": {},
   "outputs": [],
   "source": [
    "Y_train_pred = clf2.predict(X_train)\n",
    "Y_test_pred = clf2.predict(X_test)"
   ]
  },
  {
   "cell_type": "code",
   "execution_count": 10,
   "metadata": {},
   "outputs": [
    {
     "name": "stdout",
     "output_type": "stream",
     "text": [
      "Correctly predicted on TRAINING SET: 1376, errors:443\n"
     ]
    }
   ],
   "source": [
    "print('Correctly predicted on TRAINING SET: {}, errors:{}'.format(sum(Y_train==Y_train_pred), sum(Y_train!=Y_train_pred)))"
   ]
  },
  {
   "cell_type": "code",
   "execution_count": 13,
   "metadata": {},
   "outputs": [
    {
     "name": "stdout",
     "output_type": "stream",
     "text": [
      "Correctly predicted on TEST set: 668, errors:229\n"
     ]
    }
   ],
   "source": [
    "print('Correctly predicted on TEST set: {}, errors:{}'.format(sum(Y_test==Y_test_pred), sum(Y_test!=Y_test_pred)))"
   ]
  },
  {
   "cell_type": "code",
   "execution_count": 11,
   "metadata": {},
   "outputs": [
    {
     "name": "stdout",
     "output_type": "stream",
     "text": [
      "             precision    recall  f1-score   support\n",
      "\n",
      "          0       0.86      0.76      0.81      1234\n",
      "          1       0.60      0.74      0.66       585\n",
      "\n",
      "avg / total       0.78      0.76      0.76      1819\n",
      "\n",
      "Accuracy on TRAINING set: 0.76\n"
     ]
    }
   ],
   "source": [
    "print(classification_report(Y_train,Y_train_pred))\n",
    "print('Accuracy on TRAINING set: {:.2f}'.format(accuracy_score(Y_train, Y_train_pred)))"
   ]
  },
  {
   "cell_type": "code",
   "execution_count": 13,
   "metadata": {},
   "outputs": [
    {
     "name": "stdout",
     "output_type": "stream",
     "text": [
      "             precision    recall  f1-score   support\n",
      "\n",
      "          0       0.85      0.76      0.80       607\n",
      "          1       0.59      0.71      0.64       290\n",
      "\n",
      "avg / total       0.76      0.74      0.75       897\n",
      "\n",
      "Accuracy on TEST set: 0.74\n"
     ]
    }
   ],
   "source": [
    "print(classification_report(Y_test, Y_test_pred))\n",
    "print('Accuracy on TEST set: {:.2f}'.format(accuracy_score(Y_test, Y_test_pred)))"
   ]
  },
  {
   "cell_type": "code",
   "execution_count": 14,
   "metadata": {},
   "outputs": [
    {
     "name": "stdout",
     "output_type": "stream",
     "text": [
      "Confused Matrix:[ TRAINING ] \n",
      "   0   1 <-- PREDICTED LABEL\n",
      "[[942 292]\n",
      " [151 434]]\n"
     ]
    }
   ],
   "source": [
    "print(\"Confused Matrix:[ TRAINING ] \\n\",\" \".join([\"{:3d}\".format(d) for d in clf2.classes_]),\"<-- PREDICTED LABEL\")\n",
    "print(confusion_matrix(Y_train, Y_train_pred, labels=clf2.classes_))"
   ]
  },
  {
   "cell_type": "code",
   "execution_count": 15,
   "metadata": {},
   "outputs": [
    {
     "name": "stdout",
     "output_type": "stream",
     "text": [
      "Confused Matrix:[ TEST ] \n",
      "   0   1 <-- PREDICTED LABEL\n",
      "[[462 145]\n",
      " [ 84 206]]\n"
     ]
    }
   ],
   "source": [
    "print(\"Confused Matrix:[ TEST ] \\n\",\" \".join([\"{:3d}\".format(d) for d in clf2.classes_]),\"<-- PREDICTED LABEL\")\n",
    "print(confusion_matrix(Y_test, Y_test_pred, labels=clf2.classes_))"
   ]
  },
  {
   "cell_type": "code",
   "execution_count": 16,
   "metadata": {},
   "outputs": [
    {
     "name": "stdout",
     "output_type": "stream",
     "text": [
      "[0.00307416 0.99692584]\n"
     ]
    }
   ],
   "source": [
    "Y_pred_proba = clf2.predict_proba(X_test)\n",
    "print(Y_pred_proba[0])"
   ]
  },
  {
   "cell_type": "markdown",
   "metadata": {},
   "source": [
    "# Question\t3:\tDecision\tTree\n",
    "Train a DecisionTreeClassifier to predict RainTomorrow. Use argument class_weight=’balanced’ when\n",
    "constructing the classifier, as the target variable RainTomorrow is not equally distributed in the data set."
   ]
  },
  {
   "cell_type": "code",
   "execution_count": 17,
   "metadata": {},
   "outputs": [
    {
     "data": {
      "text/plain": [
       "DecisionTreeClassifier(class_weight='balanced', criterion='gini',\n",
       "            max_depth=None, max_features=None, max_leaf_nodes=None,\n",
       "            min_impurity_decrease=0.0, min_impurity_split=None,\n",
       "            min_samples_leaf=1, min_samples_split=2,\n",
       "            min_weight_fraction_leaf=0.0, presort=False, random_state=None,\n",
       "            splitter='best')"
      ]
     },
     "execution_count": 17,
     "metadata": {},
     "output_type": "execute_result"
    }
   ],
   "source": [
    "dtclf = DecisionTreeClassifier(class_weight = \"balanced\",)\n",
    "dtclf.fit(X_train, Y_train)"
   ]
  },
  {
   "cell_type": "code",
   "execution_count": 18,
   "metadata": {},
   "outputs": [
    {
     "name": "stdout",
     "output_type": "stream",
     "text": [
      "[0 1]\n"
     ]
    }
   ],
   "source": [
    "print(dtclf.classes_)"
   ]
  },
  {
   "cell_type": "code",
   "execution_count": 19,
   "metadata": {},
   "outputs": [],
   "source": [
    "dt_Y_train_pred = dtclf.predict(X_train)\n",
    "dt_Y_test_pred = dtclf.predict(X_test)"
   ]
  },
  {
   "cell_type": "code",
   "execution_count": 20,
   "metadata": {},
   "outputs": [
    {
     "name": "stdout",
     "output_type": "stream",
     "text": [
      "Correctly predicted on TRAINING SET: 1794, errors:25\n"
     ]
    }
   ],
   "source": [
    "print('Correctly predicted on TRAINING SET: {}, errors:{}'.\n",
    "      format(sum(Y_train==dt_Y_train_pred), sum(Y_train!=dt_Y_train_pred)))"
   ]
  },
  {
   "cell_type": "code",
   "execution_count": 21,
   "metadata": {},
   "outputs": [
    {
     "name": "stdout",
     "output_type": "stream",
     "text": [
      "Correctly predicted on TEST set: 615, errors:282\n"
     ]
    }
   ],
   "source": [
    "print('Correctly predicted on TEST set: {}, errors:{}'.format(sum(Y_test==dt_Y_test_pred), sum(Y_test!=dt_Y_test_pred)))"
   ]
  },
  {
   "cell_type": "code",
   "execution_count": 22,
   "metadata": {},
   "outputs": [
    {
     "name": "stdout",
     "output_type": "stream",
     "text": [
      "             precision    recall  f1-score   support\n",
      "\n",
      "          0       1.00      0.98      0.99      1234\n",
      "          1       0.96      1.00      0.98       585\n",
      "\n",
      "avg / total       0.99      0.99      0.99      1819\n",
      "\n",
      "Accuracy on TRAINING set: 0.99\n"
     ]
    }
   ],
   "source": [
    "print(classification_report(Y_train,dt_Y_train_pred))\n",
    "print('Accuracy on TRAINING set: {:.2f}'.format(accuracy_score(Y_train, dt_Y_train_pred)))"
   ]
  },
  {
   "cell_type": "code",
   "execution_count": 23,
   "metadata": {},
   "outputs": [
    {
     "name": "stdout",
     "output_type": "stream",
     "text": [
      "             precision    recall  f1-score   support\n",
      "\n",
      "          0       0.78      0.75      0.76       607\n",
      "          1       0.51      0.55      0.53       290\n",
      "\n",
      "avg / total       0.69      0.69      0.69       897\n",
      "\n",
      "Accuracy on TEST set: 0.69\n"
     ]
    }
   ],
   "source": [
    "print(classification_report(Y_test, dt_Y_test_pred))\n",
    "print('Accuracy on TEST set: {:.2f}'.format(accuracy_score(Y_test, dt_Y_test_pred)))"
   ]
  },
  {
   "cell_type": "code",
   "execution_count": 24,
   "metadata": {},
   "outputs": [
    {
     "name": "stdout",
     "output_type": "stream",
     "text": [
      "Confused Matrix:[ TRAINING ] \n",
      "   0   1 <-- PREDICTED LABEL\n",
      "[[1209   25]\n",
      " [   0  585]]\n"
     ]
    }
   ],
   "source": [
    "print(\"Confused Matrix:[ TRAINING ] \\n\",\" \".join([\"{:3d}\".format(d) for d in dtclf.classes_]),\"<-- PREDICTED LABEL\")\n",
    "print(confusion_matrix(Y_train, dt_Y_train_pred, labels=dtclf.classes_))"
   ]
  },
  {
   "cell_type": "code",
   "execution_count": 25,
   "metadata": {},
   "outputs": [
    {
     "name": "stdout",
     "output_type": "stream",
     "text": [
      "Confused Matrix:[ TEST ] \n",
      "   0   1 <-- PREDICTED LABEL\n",
      "[[456 151]\n",
      " [131 159]]\n"
     ]
    }
   ],
   "source": [
    "print(\"Confused Matrix:[ TEST ] \\n\",\" \".join([\"{:3d}\".format(d) for d in dtclf.classes_]),\"<-- PREDICTED LABEL\")\n",
    "print(confusion_matrix(Y_test, dt_Y_test_pred, labels=dtclf.classes_))"
   ]
  },
  {
   "cell_type": "code",
   "execution_count": 26,
   "metadata": {},
   "outputs": [
    {
     "name": "stdout",
     "output_type": "stream",
     "text": [
      "[0. 1.]\n"
     ]
    }
   ],
   "source": [
    "dt_Y_pred_proba = dtclf.predict_proba(X_test)\n",
    "print(dt_Y_pred_proba[0])"
   ]
  },
  {
   "cell_type": "code",
   "execution_count": 27,
   "metadata": {},
   "outputs": [
    {
     "name": "stdout",
     "output_type": "stream",
     "text": [
      "The binary tree structure has 1029 nodes (depth=19) and has the following tree structure:\n",
      "node=0 test node: go to node 1 if RainToday <= 0.5 else to node 596.\n",
      "\tnode=1 test node: go to node 2 if MinTemp_High <= 0.5 else to node 305.\n",
      "\t\tnode=2 test node: go to node 3 if Sunshine_High <= 0.5 else to node 214.\n",
      "\t\t\tnode=3 test node: go to node 4 if Temp3pm_Low <= 0.5 else to node 69.\n",
      "\t\t\t\tnode=4 test node: go to node 5 if WindSpeed9am_Moderate <= 0.5 else to node 58.\n",
      "\t\t\t\t\tnode=5 test node: go to node 6 if MaxTemp_High <= 0.5 else to node 53.\n",
      "\t\t\t\t\t\tnode=6 test node: go to node 7 if Evaporation_High <= 0.5 else to node 28.\n",
      "\t\t\t\t\t\t\tnode=7 test node: go to node 8 if MinTemp_Low <= 0.5 else to node 27.\n",
      "\t\t\t\t\t\t\t\tnode=8 test node: go to node 9 if MaxTemp_Moderate <= 0.5 else to node 16.\n",
      "\t\t\t\t\t\t\t\t\tnode=9 test node: go to node 10 if Humidity3pm_Moderate <= 0.5 else to node 11.\n",
      "\t\t\t\t\t\t\t\t\t\tnode=10 leaf node. [class=0]  [2.211102106969206,0.0]\n",
      "\t\t\t\t\t\t\t\t\t\tnode=11 test node: go to node 12 if WindSpeed9am_High <= 0.5 else to node 13.\n",
      "\t\t\t\t\t\t\t\t\t\t\tnode=12 leaf node. [class=1]  [0.0,3.1094017094017095]\n",
      "\t\t\t\t\t\t\t\t\t\t\tnode=13 test node: go to node 14 if Cloud9am_High <= 0.5 else to node 15.\n",
      "\t\t\t\t\t\t\t\t\t\t\t\tnode=14 leaf node. [class=1]  [0.0,1.5547008547008547]\n",
      "\t\t\t\t\t\t\t\t\t\t\t\tnode=15 leaf node. [class=0]  [2.211102106969206,0.0]\n",
      "\t\t\t\t\t\t\t\t\tnode=16 test node: go to node 17 if Cloud3pm_Moderate <= 0.5 else to node 26.\n",
      "\t\t\t\t\t\t\t\t\t\tnode=17 test node: go to node 18 if Temp3pm_High <= 0.5 else to node 23.\n",
      "\t\t\t\t\t\t\t\t\t\t\tnode=18 test node: go to node 19 if WindSpeed3pm_Moderate <= 0.5 else to node 20.\n",
      "\t\t\t\t\t\t\t\t\t\t\t\tnode=19 leaf node. [class=0]  [5.896272285251215,0.0]\n",
      "\t\t\t\t\t\t\t\t\t\t\t\tnode=20 test node: go to node 21 if WindSpeed9am_Low <= 0.5 else to node 22.\n",
      "\t\t\t\t\t\t\t\t\t\t\t\t\tnode=21 leaf node. [class=1]  [0.0,1.5547008547008547]\n",
      "\t\t\t\t\t\t\t\t\t\t\t\t\tnode=22 leaf node. [class=0]  [2.211102106969206,0.0]\n",
      "\t\t\t\t\t\t\t\t\t\t\tnode=23 test node: go to node 24 if Temp9am_High <= 0.5 else to node 25.\n",
      "\t\t\t\t\t\t\t\t\t\t\t\tnode=24 leaf node. [class=1]  [0.0,1.5547008547008547]\n",
      "\t\t\t\t\t\t\t\t\t\t\t\tnode=25 leaf node. [class=0]  [0.7370340356564019,0.0]\n",
      "\t\t\t\t\t\t\t\t\t\tnode=26 leaf node. [class=0]  [11.79254457050243,0.0]\n",
      "\t\t\t\t\t\t\t\tnode=27 leaf node. [class=0]  [14.740680713128038,0.0]\n",
      "\t\t\t\t\t\t\tnode=28 test node: go to node 29 if MaxTemp_Low <= 0.5 else to node 52.\n",
      "\t\t\t\t\t\t\t\tnode=29 test node: go to node 30 if Humidity9am_High <= 0.5 else to node 49.\n",
      "\t\t\t\t\t\t\t\t\tnode=30 test node: go to node 31 if Sunshine_Moderate <= 0.5 else to node 36.\n",
      "\t\t\t\t\t\t\t\t\t\tnode=31 test node: go to node 32 if Cloud3pm_Moderate <= 0.5 else to node 35.\n",
      "\t\t\t\t\t\t\t\t\t\t\tnode=32 test node: go to node 33 if WindSpeed3pm_Moderate <= 0.5 else to node 34.\n",
      "\t\t\t\t\t\t\t\t\t\t\t\tnode=33 leaf node. [class=1]  [0.0,4.664102564102564]\n",
      "\t\t\t\t\t\t\t\t\t\t\t\tnode=34 leaf node. [class=0]  [0.7370340356564019,0.0]\n",
      "\t\t\t\t\t\t\t\t\t\t\tnode=35 leaf node. [class=0]  [1.4740680713128038,0.0]\n",
      "\t\t\t\t\t\t\t\t\t\tnode=36 test node: go to node 37 if Humidity3pm_Low <= 0.5 else to node 48.\n",
      "\t\t\t\t\t\t\t\t\t\t\tnode=37 test node: go to node 38 if Temp9am_Low <= 0.5 else to node 47.\n",
      "\t\t\t\t\t\t\t\t\t\t\t\tnode=38 test node: go to node 39 if Cloud3pm_Moderate <= 0.5 else to node 46.\n",
      "\t\t\t\t\t\t\t\t\t\t\t\t\tnode=39 test node: go to node 40 if Cloud9am_High <= 0.5 else to node 45.\n",
      "\t\t\t\t\t\t\t\t\t\t\t\t\t\tnode=40 test node: go to node 41 if Cloud3pm_High <= 0.5 else to node 44.\n",
      "\t\t\t\t\t\t\t\t\t\t\t\t\t\t\tnode=41 test node: go to node 42 if Humidity3pm_Moderate <= 0.5 else to node 43.\n",
      "\t\t\t\t\t\t\t\t\t\t\t\t\t\t\t\tnode=42 leaf node. [class=1]  [0.7370340356564019,1.5547008547008547]\n",
      "\t\t\t\t\t\t\t\t\t\t\t\t\t\t\t\tnode=43 leaf node. [class=0]  [1.4740680713128038,0.0]\n",
      "\t\t\t\t\t\t\t\t\t\t\t\t\t\t\tnode=44 leaf node. [class=1]  [0.0,1.5547008547008547]\n",
      "\t\t\t\t\t\t\t\t\t\t\t\t\t\tnode=45 leaf node. [class=0]  [0.7370340356564019,0.0]\n",
      "\t\t\t\t\t\t\t\t\t\t\t\t\tnode=46 leaf node. [class=0]  [5.1592382495948135,0.0]\n",
      "\t\t\t\t\t\t\t\t\t\t\t\tnode=47 leaf node. [class=1]  [0.0,1.5547008547008547]\n",
      "\t\t\t\t\t\t\t\t\t\t\tnode=48 leaf node. [class=0]  [6.633306320907617,0.0]\n",
      "\t\t\t\t\t\t\t\t\tnode=49 test node: go to node 50 if Pressure9am_Moderate <= 0.5 else to node 51.\n",
      "\t\t\t\t\t\t\t\t\t\tnode=50 leaf node. [class=1]  [0.0,4.664102564102564]\n",
      "\t\t\t\t\t\t\t\t\t\tnode=51 leaf node. [class=0]  [0.7370340356564019,0.0]\n",
      "\t\t\t\t\t\t\t\tnode=52 leaf node. [class=0]  [6.633306320907617,0.0]\n",
      "\t\t\t\t\t\tnode=53 test node: go to node 54 if Cloud3pm_Low <= 0.5 else to node 55.\n",
      "\t\t\t\t\t\t\tnode=54 leaf node. [class=0]  [20.636952998379265,0.0]\n",
      "\t\t\t\t\t\t\tnode=55 test node: go to node 56 if Evaporation_Moderate <= 0.5 else to node 57.\n",
      "\t\t\t\t\t\t\t\tnode=56 leaf node. [class=1]  [0.0,1.5547008547008547]\n",
      "\t\t\t\t\t\t\t\tnode=57 leaf node. [class=0]  [2.211102106969206,0.0]\n",
      "\t\t\t\t\tnode=58 test node: go to node 59 if MaxTemp_High <= 0.5 else to node 60.\n",
      "\t\t\t\t\t\tnode=59 leaf node. [class=0]  [32.42949756888172,0.0]\n",
      "\t\t\t\t\t\tnode=60 test node: go to node 61 if Temp9am_Moderate <= 0.5 else to node 62.\n",
      "\t\t\t\t\t\t\tnode=61 leaf node. [class=0]  [8.107374392220422,0.0]\n",
      "\t\t\t\t\t\t\tnode=62 test node: go to node 63 if Sunshine_Low <= 0.5 else to node 68.\n",
      "\t\t\t\t\t\t\t\tnode=63 test node: go to node 64 if Pressure3pm_High <= 0.5 else to node 67.\n",
      "\t\t\t\t\t\t\t\t\tnode=64 test node: go to node 65 if Cloud9am_High <= 0.5 else to node 66.\n",
      "\t\t\t\t\t\t\t\t\t\tnode=65 leaf node. [class=0]  [2.211102106969206,0.0]\n",
      "\t\t\t\t\t\t\t\t\t\tnode=66 leaf node. [class=1]  [0.0,1.5547008547008547]\n",
      "\t\t\t\t\t\t\t\t\tnode=67 leaf node. [class=1]  [0.0,1.5547008547008547]\n",
      "\t\t\t\t\t\t\t\tnode=68 leaf node. [class=0]  [1.4740680713128038,0.0]\n",
      "\t\t\t\tnode=69 test node: go to node 70 if Humidity3pm_High <= 0.5 else to node 141.\n",
      "\t\t\t\t\tnode=70 test node: go to node 71 if WindSpeed9am_High <= 0.5 else to node 86.\n",
      "\t\t\t\t\t\tnode=71 test node: go to node 72 if Cloud3pm_Moderate <= 0.5 else to node 85.\n",
      "\t\t\t\t\t\t\tnode=72 test node: go to node 73 if Cloud9am_High <= 0.5 else to node 84.\n",
      "\t\t\t\t\t\t\t\tnode=73 test node: go to node 74 if WindSpeed3pm_High <= 0.5 else to node 83.\n",
      "\t\t\t\t\t\t\t\t\tnode=74 test node: go to node 75 if Pressure3pm_High <= 0.5 else to node 76.\n",
      "\t\t\t\t\t\t\t\t\t\tnode=75 leaf node. [class=0]  [0.7370340356564019,0.0]\n",
      "\t\t\t\t\t\t\t\t\t\tnode=76 test node: go to node 77 if Evaporation_High <= 0.5 else to node 82.\n",
      "\t\t\t\t\t\t\t\t\t\t\tnode=77 test node: go to node 78 if Cloud3pm_High <= 0.5 else to node 81.\n",
      "\t\t\t\t\t\t\t\t\t\t\t\tnode=78 test node: go to node 79 if Temp9am_Moderate <= 0.5 else to node 80.\n",
      "\t\t\t\t\t\t\t\t\t\t\t\t\tnode=79 leaf node. [class=1]  [0.0,1.5547008547008547]\n",
      "\t\t\t\t\t\t\t\t\t\t\t\t\tnode=80 leaf node. [class=0]  [0.7370340356564019,0.0]\n",
      "\t\t\t\t\t\t\t\t\t\t\t\tnode=81 leaf node. [class=1]  [0.0,3.1094017094017095]\n",
      "\t\t\t\t\t\t\t\t\t\t\tnode=82 leaf node. [class=0]  [0.7370340356564019,0.0]\n",
      "\t\t\t\t\t\t\t\t\tnode=83 leaf node. [class=0]  [2.211102106969206,0.0]\n",
      "\t\t\t\t\t\t\t\tnode=84 leaf node. [class=0]  [11.79254457050243,0.0]\n",
      "\t\t\t\t\t\t\tnode=85 leaf node. [class=0]  [20.636952998379265,0.0]\n",
      "\t\t\t\t\t\tnode=86 test node: go to node 87 if Evaporation_Low <= 0.5 else to node 128.\n",
      "\t\t\t\t\t\t\tnode=87 test node: go to node 88 if Humidity3pm_Low <= 0.5 else to node 113.\n",
      "\t\t\t\t\t\t\t\tnode=88 test node: go to node 89 if Humidity9am_Moderate <= 0.5 else to node 96.\n",
      "\t\t\t\t\t\t\t\t\tnode=89 test node: go to node 90 if Cloud3pm_High <= 0.5 else to node 91.\n",
      "\t\t\t\t\t\t\t\t\t\tnode=90 leaf node. [class=0]  [4.422204213938412,0.0]\n",
      "\t\t\t\t\t\t\t\t\t\tnode=91 test node: go to node 92 if Sunshine_Low <= 0.5 else to node 95.\n",
      "\t\t\t\t\t\t\t\t\t\t\tnode=92 test node: go to node 93 if Humidity9am_Low <= 0.5 else to node 94.\n",
      "\t\t\t\t\t\t\t\t\t\t\t\tnode=93 leaf node. [class=1]  [0.0,1.5547008547008547]\n",
      "\t\t\t\t\t\t\t\t\t\t\t\tnode=94 leaf node. [class=0]  [0.7370340356564019,0.0]\n",
      "\t\t\t\t\t\t\t\t\t\t\tnode=95 leaf node. [class=1]  [0.0,1.5547008547008547]\n",
      "\t\t\t\t\t\t\t\t\tnode=96 test node: go to node 97 if Cloud9am_Low <= 0.5 else to node 112.\n",
      "\t\t\t\t\t\t\t\t\t\tnode=97 test node: go to node 98 if Temp9am_Low <= 0.5 else to node 99.\n",
      "\t\t\t\t\t\t\t\t\t\t\tnode=98 leaf node. [class=1]  [0.0,1.5547008547008547]\n",
      "\t\t\t\t\t\t\t\t\t\t\tnode=99 test node: go to node 100 if Evaporation_High <= 0.5 else to node 105.\n",
      "\t\t\t\t\t\t\t\t\t\t\t\tnode=100 test node: go to node 101 if Cloud3pm_High <= 0.5 else to node 104.\n",
      "\t\t\t\t\t\t\t\t\t\t\t\t\tnode=101 test node: go to node 102 if Pressure9am_Moderate <= 0.5 else to node 103.\n",
      "\t\t\t\t\t\t\t\t\t\t\t\t\t\tnode=102 leaf node. [class=1]  [0.0,3.1094017094017095]\n",
      "\t\t\t\t\t\t\t\t\t\t\t\t\t\tnode=103 leaf node. [class=0]  [0.7370340356564019,0.0]\n",
      "\t\t\t\t\t\t\t\t\t\t\t\t\tnode=104 leaf node. [class=0]  [0.7370340356564019,0.0]\n",
      "\t\t\t\t\t\t\t\t\t\t\t\tnode=105 test node: go to node 106 if Cloud9am_Moderate <= 0.5 else to node 111.\n",
      "\t\t\t\t\t\t\t\t\t\t\t\t\tnode=106 test node: go to node 107 if WindSpeed3pm_Moderate <= 0.5 else to node 110.\n",
      "\t\t\t\t\t\t\t\t\t\t\t\t\t\tnode=107 test node: go to node 108 if MinTemp_Low <= 0.5 else to node 109.\n",
      "\t\t\t\t\t\t\t\t\t\t\t\t\t\t\tnode=108 leaf node. [class=1]  [0.0,1.5547008547008547]\n",
      "\t\t\t\t\t\t\t\t\t\t\t\t\t\t\tnode=109 leaf node. [class=0]  [0.7370340356564019,0.0]\n",
      "\t\t\t\t\t\t\t\t\t\t\t\t\t\tnode=110 leaf node. [class=0]  [0.7370340356564019,0.0]\n",
      "\t\t\t\t\t\t\t\t\t\t\t\t\tnode=111 leaf node. [class=0]  [1.4740680713128038,0.0]\n",
      "\t\t\t\t\t\t\t\t\t\tnode=112 leaf node. [class=1]  [0.0,4.664102564102564]\n",
      "\t\t\t\t\t\t\t\tnode=113 test node: go to node 114 if MinTemp_Low <= 0.5 else to node 121.\n",
      "\t\t\t\t\t\t\t\t\tnode=114 test node: go to node 115 if Sunshine_Low <= 0.5 else to node 120.\n",
      "\t\t\t\t\t\t\t\t\t\tnode=115 test node: go to node 116 if Cloud3pm_High <= 0.5 else to node 119.\n",
      "\t\t\t\t\t\t\t\t\t\t\tnode=116 test node: go to node 117 if Evaporation_Moderate <= 0.5 else to node 118.\n",
      "\t\t\t\t\t\t\t\t\t\t\t\tnode=117 leaf node. [class=1]  [0.0,1.5547008547008547]\n",
      "\t\t\t\t\t\t\t\t\t\t\t\tnode=118 leaf node. [class=0]  [0.7370340356564019,0.0]\n",
      "\t\t\t\t\t\t\t\t\t\t\tnode=119 leaf node. [class=1]  [0.0,1.5547008547008547]\n",
      "\t\t\t\t\t\t\t\t\t\tnode=120 leaf node. [class=0]  [0.7370340356564019,0.0]\n",
      "\t\t\t\t\t\t\t\t\tnode=121 test node: go to node 122 if Cloud3pm_Low <= 0.5 else to node 123.\n",
      "\t\t\t\t\t\t\t\t\t\tnode=122 leaf node. [class=0]  [13.266612641815234,0.0]\n",
      "\t\t\t\t\t\t\t\t\t\tnode=123 test node: go to node 124 if Evaporation_Moderate <= 0.5 else to node 125.\n",
      "\t\t\t\t\t\t\t\t\t\t\tnode=124 leaf node. [class=0]  [1.4740680713128038,0.0]\n",
      "\t\t\t\t\t\t\t\t\t\t\tnode=125 test node: go to node 126 if WindSpeed3pm_Moderate <= 0.5 else to node 127.\n",
      "\t\t\t\t\t\t\t\t\t\t\t\tnode=126 leaf node. [class=1]  [0.0,3.1094017094017095]\n",
      "\t\t\t\t\t\t\t\t\t\t\t\tnode=127 leaf node. [class=0]  [0.7370340356564019,0.0]\n",
      "\t\t\t\t\t\t\tnode=128 test node: go to node 129 if Temp9am_Low <= 0.5 else to node 132.\n",
      "\t\t\t\t\t\t\t\tnode=129 test node: go to node 130 if MaxTemp_Moderate <= 0.5 else to node 131.\n",
      "\t\t\t\t\t\t\t\t\tnode=130 leaf node. [class=1]  [0.0,1.5547008547008547]\n",
      "\t\t\t\t\t\t\t\t\tnode=131 leaf node. [class=0]  [0.7370340356564019,0.0]\n",
      "\t\t\t\t\t\t\t\tnode=132 test node: go to node 133 if Cloud9am_Moderate <= 0.5 else to node 134.\n",
      "\t\t\t\t\t\t\t\t\tnode=133 leaf node. [class=0]  [11.055510534846029,0.0]\n",
      "\t\t\t\t\t\t\t\t\tnode=134 test node: go to node 135 if MinTemp_Low <= 0.5 else to node 136.\n",
      "\t\t\t\t\t\t\t\t\t\tnode=135 leaf node. [class=0]  [2.211102106969206,0.0]\n",
      "\t\t\t\t\t\t\t\t\t\tnode=136 test node: go to node 137 if Sunshine_Low <= 0.5 else to node 140.\n",
      "\t\t\t\t\t\t\t\t\t\t\tnode=137 test node: go to node 138 if Humidity3pm_Low <= 0.5 else to node 139.\n",
      "\t\t\t\t\t\t\t\t\t\t\t\tnode=138 leaf node. [class=1]  [0.0,1.5547008547008547]\n",
      "\t\t\t\t\t\t\t\t\t\t\t\tnode=139 leaf node. [class=0]  [0.7370340356564019,0.0]\n",
      "\t\t\t\t\t\t\t\t\t\t\tnode=140 leaf node. [class=0]  [0.7370340356564019,0.0]\n",
      "\t\t\t\t\tnode=141 test node: go to node 142 if WindSpeed9am_Low <= 0.5 else to node 207.\n",
      "\t\t\t\t\t\tnode=142 test node: go to node 143 if Sunshine_Low <= 0.5 else to node 158.\n",
      "\t\t\t\t\t\t\tnode=143 test node: go to node 144 if Humidity9am_Low <= 0.5 else to node 157.\n",
      "\t\t\t\t\t\t\t\tnode=144 test node: go to node 145 if Temp9am_Low <= 0.5 else to node 146.\n",
      "\t\t\t\t\t\t\t\t\tnode=145 leaf node. [class=0]  [2.211102106969206,0.0]\n",
      "\t\t\t\t\t\t\t\t\tnode=146 test node: go to node 147 if WindSpeed3pm_Low <= 0.5 else to node 152.\n",
      "\t\t\t\t\t\t\t\t\t\tnode=147 test node: go to node 148 if Cloud9am_High <= 0.5 else to node 149.\n",
      "\t\t\t\t\t\t\t\t\t\t\tnode=148 leaf node. [class=1]  [0.0,4.664102564102564]\n",
      "\t\t\t\t\t\t\t\t\t\t\tnode=149 test node: go to node 150 if WindSpeed9am_Moderate <= 0.5 else to node 151.\n",
      "\t\t\t\t\t\t\t\t\t\t\t\tnode=150 leaf node. [class=0]  [4.422204213938412,0.0]\n",
      "\t\t\t\t\t\t\t\t\t\t\t\tnode=151 leaf node. [class=1]  [0.0,1.5547008547008547]\n",
      "\t\t\t\t\t\t\t\t\t\tnode=152 test node: go to node 153 if Cloud9am_High <= 0.5 else to node 154.\n",
      "\t\t\t\t\t\t\t\t\t\t\tnode=153 leaf node. [class=0]  [2.9481361426256076,0.0]\n",
      "\t\t\t\t\t\t\t\t\t\t\tnode=154 test node: go to node 155 if Pressure9am_Moderate <= 0.5 else to node 156.\n",
      "\t\t\t\t\t\t\t\t\t\t\t\tnode=155 leaf node. [class=1]  [0.0,1.5547008547008547]\n",
      "\t\t\t\t\t\t\t\t\t\t\t\tnode=156 leaf node. [class=0]  [1.4740680713128038,0.0]\n",
      "\t\t\t\t\t\t\t\tnode=157 leaf node. [class=1]  [0.0,1.5547008547008547]\n",
      "\t\t\t\t\t\t\tnode=158 test node: go to node 159 if MinTemp_Moderate <= 0.5 else to node 182.\n",
      "\t\t\t\t\t\t\t\tnode=159 test node: go to node 160 if MaxTemp_Moderate <= 0.5 else to node 181.\n",
      "\t\t\t\t\t\t\t\t\tnode=160 test node: go to node 161 if Evaporation_High <= 0.5 else to node 180.\n",
      "\t\t\t\t\t\t\t\t\t\tnode=161 test node: go to node 162 if Pressure9am_High <= 0.5 else to node 163.\n",
      "\t\t\t\t\t\t\t\t\t\t\tnode=162 leaf node. [class=0]  [0.7370340356564019,0.0]\n",
      "\t\t\t\t\t\t\t\t\t\t\tnode=163 test node: go to node 164 if Cloud9am_High <= 0.5 else to node 171.\n",
      "\t\t\t\t\t\t\t\t\t\t\t\tnode=164 test node: go to node 165 if WindSpeed3pm_High <= 0.5 else to node 170.\n",
      "\t\t\t\t\t\t\t\t\t\t\t\t\tnode=165 test node: go to node 166 if WindSpeed3pm_Moderate <= 0.5 else to node 169.\n",
      "\t\t\t\t\t\t\t\t\t\t\t\t\t\tnode=166 test node: go to node 167 if Evaporation_Moderate <= 0.5 else to node 168.\n",
      "\t\t\t\t\t\t\t\t\t\t\t\t\t\t\tnode=167 leaf node. [class=1]  [0.0,1.5547008547008547]\n",
      "\t\t\t\t\t\t\t\t\t\t\t\t\t\t\tnode=168 leaf node. [class=0]  [0.7370340356564019,0.0]\n",
      "\t\t\t\t\t\t\t\t\t\t\t\t\t\tnode=169 leaf node. [class=1]  [0.0,3.1094017094017095]\n",
      "\t\t\t\t\t\t\t\t\t\t\t\t\tnode=170 leaf node. [class=0]  [1.4740680713128038,0.0]\n",
      "\t\t\t\t\t\t\t\t\t\t\t\tnode=171 test node: go to node 172 if WindSpeed3pm_Moderate <= 0.5 else to node 179.\n",
      "\t\t\t\t\t\t\t\t\t\t\t\t\tnode=172 test node: go to node 173 if Cloud3pm_Moderate <= 0.5 else to node 178.\n",
      "\t\t\t\t\t\t\t\t\t\t\t\t\t\tnode=173 test node: go to node 174 if Evaporation_Moderate <= 0.5 else to node 177.\n",
      "\t\t\t\t\t\t\t\t\t\t\t\t\t\t\tnode=174 test node: go to node 175 if WindSpeed9am_Moderate <= 0.5 else to node 176.\n",
      "\t\t\t\t\t\t\t\t\t\t\t\t\t\t\t\tnode=175 leaf node. [class=1]  [0.0,1.5547008547008547]\n",
      "\t\t\t\t\t\t\t\t\t\t\t\t\t\t\t\tnode=176 leaf node. [class=0]  [0.7370340356564019,0.0]\n",
      "\t\t\t\t\t\t\t\t\t\t\t\t\t\t\tnode=177 leaf node. [class=1]  [0.0,1.5547008547008547]\n",
      "\t\t\t\t\t\t\t\t\t\t\t\t\t\tnode=178 leaf node. [class=0]  [0.7370340356564019,0.0]\n",
      "\t\t\t\t\t\t\t\t\t\t\t\t\tnode=179 leaf node. [class=0]  [2.211102106969206,0.0]\n",
      "\t\t\t\t\t\t\t\t\t\tnode=180 leaf node. [class=0]  [0.7370340356564019,0.0]\n",
      "\t\t\t\t\t\t\t\t\tnode=181 leaf node. [class=0]  [0.7370340356564019,0.0]\n",
      "\t\t\t\t\t\t\t\tnode=182 test node: go to node 183 if WindSpeed9am_High <= 0.5 else to node 188.\n",
      "\t\t\t\t\t\t\t\t\tnode=183 test node: go to node 184 if Pressure3pm_Moderate <= 0.5 else to node 185.\n",
      "\t\t\t\t\t\t\t\t\t\tnode=184 leaf node. [class=1]  [0.0,7.773504273504273]\n",
      "\t\t\t\t\t\t\t\t\t\tnode=185 test node: go to node 186 if Temp9am_Low <= 0.5 else to node 187.\n",
      "\t\t\t\t\t\t\t\t\t\t\tnode=186 leaf node. [class=1]  [0.0,1.5547008547008547]\n",
      "\t\t\t\t\t\t\t\t\t\t\tnode=187 leaf node. [class=0]  [0.7370340356564019,0.0]\n",
      "\t\t\t\t\t\t\t\t\tnode=188 test node: go to node 189 if Humidity9am_Moderate <= 0.5 else to node 204.\n",
      "\t\t\t\t\t\t\t\t\t\tnode=189 test node: go to node 190 if Cloud3pm_High <= 0.5 else to node 191.\n",
      "\t\t\t\t\t\t\t\t\t\t\tnode=190 leaf node. [class=0]  [2.211102106969206,0.0]\n",
      "\t\t\t\t\t\t\t\t\t\t\tnode=191 test node: go to node 192 if MaxTemp_Moderate <= 0.5 else to node 203.\n",
      "\t\t\t\t\t\t\t\t\t\t\t\tnode=192 test node: go to node 193 if WindSpeed3pm_Moderate <= 0.5 else to node 200.\n",
      "\t\t\t\t\t\t\t\t\t\t\t\t\tnode=193 test node: go to node 194 if Cloud9am_High <= 0.5 else to node 195.\n",
      "\t\t\t\t\t\t\t\t\t\t\t\t\t\tnode=194 leaf node. [class=1]  [0.0,4.664102564102564]\n",
      "\t\t\t\t\t\t\t\t\t\t\t\t\t\tnode=195 test node: go to node 196 if Humidity9am_Low <= 0.5 else to node 199.\n",
      "\t\t\t\t\t\t\t\t\t\t\t\t\t\t\tnode=196 test node: go to node 197 if Evaporation_Moderate <= 0.5 else to node 198.\n",
      "\t\t\t\t\t\t\t\t\t\t\t\t\t\t\t\tnode=197 leaf node. [class=1]  [0.7370340356564019,1.5547008547008547]\n",
      "\t\t\t\t\t\t\t\t\t\t\t\t\t\t\t\tnode=198 leaf node. [class=1]  [0.0,1.5547008547008547]\n",
      "\t\t\t\t\t\t\t\t\t\t\t\t\t\t\tnode=199 leaf node. [class=0]  [1.4740680713128038,0.0]\n",
      "\t\t\t\t\t\t\t\t\t\t\t\t\tnode=200 test node: go to node 201 if Pressure3pm_High <= 0.5 else to node 202.\n",
      "\t\t\t\t\t\t\t\t\t\t\t\t\t\tnode=201 leaf node. [class=1]  [0.0,1.5547008547008547]\n",
      "\t\t\t\t\t\t\t\t\t\t\t\t\t\tnode=202 leaf node. [class=0]  [2.211102106969206,0.0]\n",
      "\t\t\t\t\t\t\t\t\t\t\t\tnode=203 leaf node. [class=0]  [0.7370340356564019,0.0]\n",
      "\t\t\t\t\t\t\t\t\t\tnode=204 test node: go to node 205 if Pressure9am_Moderate <= 0.5 else to node 206.\n",
      "\t\t\t\t\t\t\t\t\t\t\tnode=205 leaf node. [class=1]  [0.0,6.218803418803419]\n",
      "\t\t\t\t\t\t\t\t\t\t\tnode=206 leaf node. [class=0]  [0.7370340356564019,0.0]\n",
      "\t\t\t\t\t\tnode=207 test node: go to node 208 if Humidity9am_Low <= 0.5 else to node 213.\n",
      "\t\t\t\t\t\t\tnode=208 test node: go to node 209 if Pressure3pm_Moderate <= 0.5 else to node 212.\n",
      "\t\t\t\t\t\t\t\tnode=209 test node: go to node 210 if Cloud9am_High <= 0.5 else to node 211.\n",
      "\t\t\t\t\t\t\t\t\tnode=210 leaf node. [class=0]  [2.9481361426256076,0.0]\n",
      "\t\t\t\t\t\t\t\t\tnode=211 leaf node. [class=1]  [0.0,1.5547008547008547]\n",
      "\t\t\t\t\t\t\t\tnode=212 leaf node. [class=0]  [7.370340356564019,0.0]\n",
      "\t\t\t\t\t\t\tnode=213 leaf node. [class=1]  [0.0,1.5547008547008547]\n",
      "\t\t\tnode=214 test node: go to node 215 if MinTemp_Moderate <= 0.5 else to node 236.\n",
      "\t\t\t\tnode=215 test node: go to node 216 if Cloud9am_High <= 0.5 else to node 231.\n",
      "\t\t\t\t\tnode=216 test node: go to node 217 if Temp3pm_Moderate <= 0.5 else to node 218.\n",
      "\t\t\t\t\t\tnode=217 leaf node. [class=0]  [103.92179902755291,0.0]\n",
      "\t\t\t\t\t\tnode=218 test node: go to node 219 if Cloud3pm_Moderate <= 0.5 else to node 226.\n",
      "\t\t\t\t\t\t\tnode=219 test node: go to node 220 if MaxTemp_Low <= 0.5 else to node 221.\n",
      "\t\t\t\t\t\t\t\tnode=220 leaf node. [class=0]  [61.91085899513772,0.0]\n",
      "\t\t\t\t\t\t\t\tnode=221 test node: go to node 222 if WindSpeed3pm_High <= 0.5 else to node 223.\n",
      "\t\t\t\t\t\t\t\t\tnode=222 leaf node. [class=0]  [7.370340356564019,0.0]\n",
      "\t\t\t\t\t\t\t\t\tnode=223 test node: go to node 224 if Evaporation_Moderate <= 0.5 else to node 225.\n",
      "\t\t\t\t\t\t\t\t\t\tnode=224 leaf node. [class=1]  [0.0,1.5547008547008547]\n",
      "\t\t\t\t\t\t\t\t\t\tnode=225 leaf node. [class=0]  [0.7370340356564019,0.0]\n",
      "\t\t\t\t\t\t\tnode=226 test node: go to node 227 if Temp9am_Moderate <= 0.5 else to node 230.\n",
      "\t\t\t\t\t\t\t\tnode=227 test node: go to node 228 if WindSpeed9am_High <= 0.5 else to node 229.\n",
      "\t\t\t\t\t\t\t\t\tnode=228 leaf node. [class=1]  [0.0,3.1094017094017095]\n",
      "\t\t\t\t\t\t\t\t\tnode=229 leaf node. [class=0]  [1.4740680713128038,0.0]\n",
      "\t\t\t\t\t\t\t\tnode=230 leaf node. [class=0]  [6.633306320907617,0.0]\n",
      "\t\t\t\t\tnode=231 test node: go to node 232 if Temp9am_Moderate <= 0.5 else to node 233.\n",
      "\t\t\t\t\t\tnode=232 leaf node. [class=0]  [8.107374392220422,0.0]\n",
      "\t\t\t\t\t\tnode=233 test node: go to node 234 if WindSpeed9am_High <= 0.5 else to node 235.\n",
      "\t\t\t\t\t\t\tnode=234 leaf node. [class=0]  [2.211102106969206,0.0]\n",
      "\t\t\t\t\t\t\tnode=235 leaf node. [class=1]  [0.0,3.1094017094017095]\n",
      "\t\t\t\tnode=236 test node: go to node 237 if WindSpeed3pm_Low <= 0.5 else to node 304.\n",
      "\t\t\t\t\tnode=237 test node: go to node 238 if MaxTemp_High <= 0.5 else to node 263.\n",
      "\t\t\t\t\t\tnode=238 test node: go to node 239 if Humidity9am_High <= 0.5 else to node 258.\n",
      "\t\t\t\t\t\t\tnode=239 test node: go to node 240 if WindSpeed3pm_Moderate <= 0.5 else to node 257.\n",
      "\t\t\t\t\t\t\t\tnode=240 test node: go to node 241 if Pressure9am_Moderate <= 0.5 else to node 248.\n",
      "\t\t\t\t\t\t\t\t\tnode=241 test node: go to node 242 if Cloud3pm_Moderate <= 0.5 else to node 243.\n",
      "\t\t\t\t\t\t\t\t\t\tnode=242 leaf node. [class=0]  [11.055510534846029,0.0]\n",
      "\t\t\t\t\t\t\t\t\t\tnode=243 test node: go to node 244 if Temp3pm_Moderate <= 0.5 else to node 245.\n",
      "\t\t\t\t\t\t\t\t\t\t\tnode=244 leaf node. [class=0]  [2.9481361426256076,0.0]\n",
      "\t\t\t\t\t\t\t\t\t\t\tnode=245 test node: go to node 246 if Evaporation_Low <= 0.5 else to node 247.\n",
      "\t\t\t\t\t\t\t\t\t\t\t\tnode=246 leaf node. [class=1]  [0.0,1.5547008547008547]\n",
      "\t\t\t\t\t\t\t\t\t\t\t\tnode=247 leaf node. [class=0]  [0.7370340356564019,0.0]\n",
      "\t\t\t\t\t\t\t\t\tnode=248 test node: go to node 249 if Pressure3pm_High <= 0.5 else to node 256.\n",
      "\t\t\t\t\t\t\t\t\t\tnode=249 test node: go to node 250 if Temp9am_Moderate <= 0.5 else to node 255.\n",
      "\t\t\t\t\t\t\t\t\t\t\tnode=250 test node: go to node 251 if Evaporation_Moderate <= 0.5 else to node 254.\n",
      "\t\t\t\t\t\t\t\t\t\t\t\tnode=251 test node: go to node 252 if Temp3pm_Moderate <= 0.5 else to node 253.\n",
      "\t\t\t\t\t\t\t\t\t\t\t\t\tnode=252 leaf node. [class=1]  [0.0,1.5547008547008547]\n",
      "\t\t\t\t\t\t\t\t\t\t\t\t\tnode=253 leaf node. [class=0]  [0.7370340356564019,0.0]\n",
      "\t\t\t\t\t\t\t\t\t\t\t\tnode=254 leaf node. [class=0]  [0.7370340356564019,0.0]\n",
      "\t\t\t\t\t\t\t\t\t\t\tnode=255 leaf node. [class=0]  [3.6851701782820094,0.0]\n",
      "\t\t\t\t\t\t\t\t\t\tnode=256 leaf node. [class=1]  [0.0,1.5547008547008547]\n",
      "\t\t\t\t\t\t\t\tnode=257 leaf node. [class=0]  [21.373987034035668,0.0]\n",
      "\t\t\t\t\t\t\tnode=258 test node: go to node 259 if WindSpeed9am_High <= 0.5 else to node 260.\n",
      "\t\t\t\t\t\t\t\tnode=259 leaf node. [class=0]  [2.211102106969206,0.0]\n",
      "\t\t\t\t\t\t\t\tnode=260 test node: go to node 261 if Cloud9am_Moderate <= 0.5 else to node 262.\n",
      "\t\t\t\t\t\t\t\t\tnode=261 leaf node. [class=1]  [0.0,3.1094017094017095]\n",
      "\t\t\t\t\t\t\t\t\tnode=262 leaf node. [class=0]  [0.7370340356564019,0.0]\n",
      "\t\t\t\t\t\tnode=263 test node: go to node 264 if Cloud3pm_High <= 0.5 else to node 301.\n",
      "\t\t\t\t\t\t\tnode=264 test node: go to node 265 if WindSpeed9am_Moderate <= 0.5 else to node 294.\n",
      "\t\t\t\t\t\t\t\tnode=265 test node: go to node 266 if Cloud3pm_Low <= 0.5 else to node 277.\n",
      "\t\t\t\t\t\t\t\t\tnode=266 test node: go to node 267 if Cloud9am_Moderate <= 0.5 else to node 274.\n",
      "\t\t\t\t\t\t\t\t\t\tnode=267 test node: go to node 268 if Temp9am_Moderate <= 0.5 else to node 273.\n",
      "\t\t\t\t\t\t\t\t\t\t\tnode=268 test node: go to node 269 if Temp3pm_High <= 0.5 else to node 272.\n",
      "\t\t\t\t\t\t\t\t\t\t\t\tnode=269 test node: go to node 270 if WindSpeed3pm_Moderate <= 0.5 else to node 271.\n",
      "\t\t\t\t\t\t\t\t\t\t\t\t\tnode=270 leaf node. [class=1]  [0.0,1.5547008547008547]\n",
      "\t\t\t\t\t\t\t\t\t\t\t\t\tnode=271 leaf node. [class=0]  [0.7370340356564019,0.0]\n",
      "\t\t\t\t\t\t\t\t\t\t\t\tnode=272 leaf node. [class=0]  [4.422204213938412,0.0]\n",
      "\t\t\t\t\t\t\t\t\t\t\tnode=273 leaf node. [class=1]  [0.0,1.5547008547008547]\n",
      "\t\t\t\t\t\t\t\t\t\tnode=274 test node: go to node 275 if Temp3pm_Moderate <= 0.5 else to node 276.\n",
      "\t\t\t\t\t\t\t\t\t\t\tnode=275 leaf node. [class=1]  [0.0,3.1094017094017095]\n",
      "\t\t\t\t\t\t\t\t\t\t\tnode=276 leaf node. [class=0]  [0.7370340356564019,0.0]\n",
      "\t\t\t\t\t\t\t\t\tnode=277 test node: go to node 278 if Evaporation_High <= 0.5 else to node 279.\n",
      "\t\t\t\t\t\t\t\t\t\tnode=278 leaf node. [class=0]  [5.896272285251215,0.0]\n",
      "\t\t\t\t\t\t\t\t\t\tnode=279 test node: go to node 280 if Pressure9am_High <= 0.5 else to node 293.\n",
      "\t\t\t\t\t\t\t\t\t\t\tnode=280 test node: go to node 281 if WindSpeed3pm_Moderate <= 0.5 else to node 288.\n",
      "\t\t\t\t\t\t\t\t\t\t\t\tnode=281 test node: go to node 282 if Temp3pm_Moderate <= 0.5 else to node 287.\n",
      "\t\t\t\t\t\t\t\t\t\t\t\t\tnode=282 test node: go to node 283 if Cloud9am_Low <= 0.5 else to node 284.\n",
      "\t\t\t\t\t\t\t\t\t\t\t\t\t\tnode=283 leaf node. [class=1]  [0.7370340356564019,1.5547008547008547]\n",
      "\t\t\t\t\t\t\t\t\t\t\t\t\t\tnode=284 test node: go to node 285 if Pressure9am_Low <= 0.5 else to node 286.\n",
      "\t\t\t\t\t\t\t\t\t\t\t\t\t\t\tnode=285 leaf node. [class=1]  [0.7370340356564019,1.5547008547008547]\n",
      "\t\t\t\t\t\t\t\t\t\t\t\t\t\t\tnode=286 leaf node. [class=1]  [0.7370340356564019,1.5547008547008547]\n",
      "\t\t\t\t\t\t\t\t\t\t\t\t\tnode=287 leaf node. [class=0]  [0.7370340356564019,0.0]\n",
      "\t\t\t\t\t\t\t\t\t\t\t\tnode=288 test node: go to node 289 if Humidity3pm_High <= 0.5 else to node 290.\n",
      "\t\t\t\t\t\t\t\t\t\t\t\t\tnode=289 leaf node. [class=0]  [4.422204213938412,0.0]\n",
      "\t\t\t\t\t\t\t\t\t\t\t\t\tnode=290 test node: go to node 291 if Cloud9am_Moderate <= 0.5 else to node 292.\n",
      "\t\t\t\t\t\t\t\t\t\t\t\t\t\tnode=291 leaf node. [class=1]  [0.0,1.5547008547008547]\n",
      "\t\t\t\t\t\t\t\t\t\t\t\t\t\tnode=292 leaf node. [class=0]  [0.7370340356564019,0.0]\n",
      "\t\t\t\t\t\t\t\t\t\t\tnode=293 leaf node. [class=0]  [2.211102106969206,0.0]\n",
      "\t\t\t\t\t\t\t\tnode=294 test node: go to node 295 if Evaporation_Moderate <= 0.5 else to node 296.\n",
      "\t\t\t\t\t\t\t\t\tnode=295 leaf node. [class=0]  [11.055510534846029,0.0]\n",
      "\t\t\t\t\t\t\t\t\tnode=296 test node: go to node 297 if Pressure9am_Low <= 0.5 else to node 300.\n",
      "\t\t\t\t\t\t\t\t\t\tnode=297 test node: go to node 298 if Cloud3pm_Moderate <= 0.5 else to node 299.\n",
      "\t\t\t\t\t\t\t\t\t\t\tnode=298 leaf node. [class=1]  [0.0,3.1094017094017095]\n",
      "\t\t\t\t\t\t\t\t\t\t\tnode=299 leaf node. [class=0]  [0.7370340356564019,0.0]\n",
      "\t\t\t\t\t\t\t\t\t\tnode=300 leaf node. [class=0]  [2.211102106969206,0.0]\n",
      "\t\t\t\t\t\t\tnode=301 test node: go to node 302 if Evaporation_Moderate <= 0.5 else to node 303.\n",
      "\t\t\t\t\t\t\t\tnode=302 leaf node. [class=1]  [0.0,3.1094017094017095]\n",
      "\t\t\t\t\t\t\t\tnode=303 leaf node. [class=0]  [0.7370340356564019,0.0]\n",
      "\t\t\t\t\tnode=304 leaf node. [class=0]  [29.481361426256107,0.0]\n",
      "\t\tnode=305 test node: go to node 306 if Sunshine_Low <= 0.5 else to node 523.\n",
      "\t\t\tnode=306 test node: go to node 307 if Sunshine_High <= 0.5 else to node 408.\n",
      "\t\t\t\tnode=307 test node: go to node 308 if WindSpeed3pm_High <= 0.5 else to node 383.\n",
      "\t\t\t\t\tnode=308 test node: go to node 309 if Humidity3pm_High <= 0.5 else to node 334.\n",
      "\t\t\t\t\t\tnode=309 test node: go to node 310 if MaxTemp_High <= 0.5 else to node 313.\n",
      "\t\t\t\t\t\t\tnode=310 test node: go to node 311 if Cloud3pm_Moderate <= 0.5 else to node 312.\n",
      "\t\t\t\t\t\t\t\tnode=311 leaf node. [class=1]  [0.0,3.1094017094017095]\n",
      "\t\t\t\t\t\t\t\tnode=312 leaf node. [class=0]  [0.7370340356564019,0.0]\n",
      "\t\t\t\t\t\t\tnode=313 test node: go to node 314 if Temp3pm_High <= 0.5 else to node 317.\n",
      "\t\t\t\t\t\t\t\tnode=314 test node: go to node 315 if Evaporation_Low <= 0.5 else to node 316.\n",
      "\t\t\t\t\t\t\t\t\tnode=315 leaf node. [class=1]  [0.0,1.5547008547008547]\n",
      "\t\t\t\t\t\t\t\t\tnode=316 leaf node. [class=0]  [0.7370340356564019,0.0]\n",
      "\t\t\t\t\t\t\t\tnode=317 test node: go to node 318 if Humidity9am_Low <= 0.5 else to node 333.\n",
      "\t\t\t\t\t\t\t\t\tnode=318 test node: go to node 319 if WindSpeed3pm_Moderate <= 0.5 else to node 320.\n",
      "\t\t\t\t\t\t\t\t\t\tnode=319 leaf node. [class=0]  [3.6851701782820094,0.0]\n",
      "\t\t\t\t\t\t\t\t\t\tnode=320 test node: go to node 321 if Humidity3pm_Moderate <= 0.5 else to node 322.\n",
      "\t\t\t\t\t\t\t\t\t\t\tnode=321 leaf node. [class=1]  [0.0,1.5547008547008547]\n",
      "\t\t\t\t\t\t\t\t\t\t\tnode=322 test node: go to node 323 if Pressure3pm_Moderate <= 0.5 else to node 332.\n",
      "\t\t\t\t\t\t\t\t\t\t\t\tnode=323 test node: go to node 324 if WindSpeed9am_Moderate <= 0.5 else to node 331.\n",
      "\t\t\t\t\t\t\t\t\t\t\t\t\tnode=324 test node: go to node 325 if Humidity9am_High <= 0.5 else to node 330.\n",
      "\t\t\t\t\t\t\t\t\t\t\t\t\t\tnode=325 test node: go to node 326 if Evaporation_High <= 0.5 else to node 329.\n",
      "\t\t\t\t\t\t\t\t\t\t\t\t\t\t\tnode=326 test node: go to node 327 if Cloud9am_Low <= 0.5 else to node 328.\n",
      "\t\t\t\t\t\t\t\t\t\t\t\t\t\t\t\tnode=327 leaf node. [class=1]  [0.0,1.5547008547008547]\n",
      "\t\t\t\t\t\t\t\t\t\t\t\t\t\t\t\tnode=328 leaf node. [class=0]  [0.7370340356564019,0.0]\n",
      "\t\t\t\t\t\t\t\t\t\t\t\t\t\t\tnode=329 leaf node. [class=0]  [0.7370340356564019,0.0]\n",
      "\t\t\t\t\t\t\t\t\t\t\t\t\t\tnode=330 leaf node. [class=0]  [2.9481361426256076,0.0]\n",
      "\t\t\t\t\t\t\t\t\t\t\t\t\tnode=331 leaf node. [class=1]  [0.0,1.5547008547008547]\n",
      "\t\t\t\t\t\t\t\t\t\t\t\tnode=332 leaf node. [class=0]  [2.9481361426256076,0.0]\n",
      "\t\t\t\t\t\t\t\t\tnode=333 leaf node. [class=0]  [8.844408427876823,0.0]\n",
      "\t\t\t\t\t\tnode=334 test node: go to node 335 if Pressure9am_Moderate <= 0.5 else to node 376.\n",
      "\t\t\t\t\t\t\tnode=335 test node: go to node 336 if WindSpeed3pm_Low <= 0.5 else to node 349.\n",
      "\t\t\t\t\t\t\t\tnode=336 test node: go to node 337 if Temp3pm_Moderate <= 0.5 else to node 348.\n",
      "\t\t\t\t\t\t\t\t\tnode=337 test node: go to node 338 if WindSpeed9am_Moderate <= 0.5 else to node 347.\n",
      "\t\t\t\t\t\t\t\t\t\tnode=338 test node: go to node 339 if WindSpeed9am_High <= 0.5 else to node 346.\n",
      "\t\t\t\t\t\t\t\t\t\t\tnode=339 test node: go to node 340 if Evaporation_High <= 0.5 else to node 341.\n",
      "\t\t\t\t\t\t\t\t\t\t\t\tnode=340 leaf node. [class=1]  [0.0,4.664102564102564]\n",
      "\t\t\t\t\t\t\t\t\t\t\t\tnode=341 test node: go to node 342 if Cloud3pm_High <= 0.5 else to node 345.\n",
      "\t\t\t\t\t\t\t\t\t\t\t\t\tnode=342 test node: go to node 343 if Humidity9am_High <= 0.5 else to node 344.\n",
      "\t\t\t\t\t\t\t\t\t\t\t\t\t\tnode=343 leaf node. [class=1]  [0.0,1.5547008547008547]\n",
      "\t\t\t\t\t\t\t\t\t\t\t\t\t\tnode=344 leaf node. [class=0]  [0.7370340356564019,0.0]\n",
      "\t\t\t\t\t\t\t\t\t\t\t\t\tnode=345 leaf node. [class=0]  [1.4740680713128038,0.0]\n",
      "\t\t\t\t\t\t\t\t\t\t\tnode=346 leaf node. [class=1]  [0.0,6.218803418803419]\n",
      "\t\t\t\t\t\t\t\t\t\tnode=347 leaf node. [class=0]  [0.7370340356564019,0.0]\n",
      "\t\t\t\t\t\t\t\t\tnode=348 leaf node. [class=0]  [1.4740680713128038,0.0]\n",
      "\t\t\t\t\t\t\t\tnode=349 test node: go to node 350 if Cloud9am_High <= 0.5 else to node 363.\n",
      "\t\t\t\t\t\t\t\t\tnode=350 test node: go to node 351 if Evaporation_High <= 0.5 else to node 352.\n",
      "\t\t\t\t\t\t\t\t\t\tnode=351 leaf node. [class=0]  [3.6851701782820094,0.0]\n",
      "\t\t\t\t\t\t\t\t\t\tnode=352 test node: go to node 353 if Humidity9am_Moderate <= 0.5 else to node 356.\n",
      "\t\t\t\t\t\t\t\t\t\t\tnode=353 test node: go to node 354 if Cloud3pm_High <= 0.5 else to node 355.\n",
      "\t\t\t\t\t\t\t\t\t\t\t\tnode=354 leaf node. [class=0]  [4.422204213938412,0.0]\n",
      "\t\t\t\t\t\t\t\t\t\t\t\tnode=355 leaf node. [class=1]  [0.0,1.5547008547008547]\n",
      "\t\t\t\t\t\t\t\t\t\t\tnode=356 test node: go to node 357 if Cloud3pm_Moderate <= 0.5 else to node 362.\n",
      "\t\t\t\t\t\t\t\t\t\t\t\tnode=357 test node: go to node 358 if WindSpeed9am_Low <= 0.5 else to node 361.\n",
      "\t\t\t\t\t\t\t\t\t\t\t\t\tnode=358 test node: go to node 359 if Cloud9am_Low <= 0.5 else to node 360.\n",
      "\t\t\t\t\t\t\t\t\t\t\t\t\t\tnode=359 leaf node. [class=1]  [0.0,3.1094017094017095]\n",
      "\t\t\t\t\t\t\t\t\t\t\t\t\t\tnode=360 leaf node. [class=0]  [0.7370340356564019,0.0]\n",
      "\t\t\t\t\t\t\t\t\t\t\t\t\tnode=361 leaf node. [class=0]  [2.211102106969206,0.0]\n",
      "\t\t\t\t\t\t\t\t\t\t\t\tnode=362 leaf node. [class=1]  [0.0,3.1094017094017095]\n",
      "\t\t\t\t\t\t\t\t\tnode=363 test node: go to node 364 if Pressure9am_Low <= 0.5 else to node 365.\n",
      "\t\t\t\t\t\t\t\t\t\tnode=364 leaf node. [class=0]  [0.7370340356564019,0.0]\n",
      "\t\t\t\t\t\t\t\t\t\tnode=365 test node: go to node 366 if Cloud3pm_Low <= 0.5 else to node 375.\n",
      "\t\t\t\t\t\t\t\t\t\t\tnode=366 test node: go to node 367 if Humidity9am_Moderate <= 0.5 else to node 374.\n",
      "\t\t\t\t\t\t\t\t\t\t\t\tnode=367 test node: go to node 368 if Evaporation_Moderate <= 0.5 else to node 369.\n",
      "\t\t\t\t\t\t\t\t\t\t\t\t\tnode=368 leaf node. [class=1]  [0.0,1.5547008547008547]\n",
      "\t\t\t\t\t\t\t\t\t\t\t\t\tnode=369 test node: go to node 370 if Cloud3pm_Moderate <= 0.5 else to node 373.\n",
      "\t\t\t\t\t\t\t\t\t\t\t\t\t\tnode=370 test node: go to node 371 if Humidity9am_Low <= 0.5 else to node 372.\n",
      "\t\t\t\t\t\t\t\t\t\t\t\t\t\t\tnode=371 leaf node. [class=1]  [0.7370340356564019,1.5547008547008547]\n",
      "\t\t\t\t\t\t\t\t\t\t\t\t\t\t\tnode=372 leaf node. [class=1]  [0.0,1.5547008547008547]\n",
      "\t\t\t\t\t\t\t\t\t\t\t\t\t\tnode=373 leaf node. [class=0]  [0.7370340356564019,0.0]\n",
      "\t\t\t\t\t\t\t\t\t\t\t\tnode=374 leaf node. [class=1]  [0.0,3.1094017094017095]\n",
      "\t\t\t\t\t\t\t\t\t\t\tnode=375 leaf node. [class=0]  [0.7370340356564019,0.0]\n",
      "\t\t\t\t\t\t\tnode=376 test node: go to node 377 if Pressure3pm_High <= 0.5 else to node 382.\n",
      "\t\t\t\t\t\t\t\tnode=377 test node: go to node 378 if Evaporation_Moderate <= 0.5 else to node 379.\n",
      "\t\t\t\t\t\t\t\t\tnode=378 leaf node. [class=0]  [5.1592382495948135,0.0]\n",
      "\t\t\t\t\t\t\t\t\tnode=379 test node: go to node 380 if Cloud9am_High <= 0.5 else to node 381.\n",
      "\t\t\t\t\t\t\t\t\t\tnode=380 leaf node. [class=1]  [0.0,1.5547008547008547]\n",
      "\t\t\t\t\t\t\t\t\t\tnode=381 leaf node. [class=0]  [0.7370340356564019,0.0]\n",
      "\t\t\t\t\t\t\t\tnode=382 leaf node. [class=1]  [0.0,1.5547008547008547]\n",
      "\t\t\t\t\tnode=383 test node: go to node 384 if Cloud3pm_Moderate <= 0.5 else to node 397.\n",
      "\t\t\t\t\t\tnode=384 test node: go to node 385 if WindSpeed9am_Moderate <= 0.5 else to node 390.\n",
      "\t\t\t\t\t\t\tnode=385 test node: go to node 386 if Evaporation_Moderate <= 0.5 else to node 387.\n",
      "\t\t\t\t\t\t\t\tnode=386 leaf node. [class=0]  [5.896272285251215,0.0]\n",
      "\t\t\t\t\t\t\t\tnode=387 test node: go to node 388 if Cloud9am_Moderate <= 0.5 else to node 389.\n",
      "\t\t\t\t\t\t\t\t\tnode=388 leaf node. [class=0]  [1.4740680713128038,0.0]\n",
      "\t\t\t\t\t\t\t\t\tnode=389 leaf node. [class=1]  [0.0,1.5547008547008547]\n",
      "\t\t\t\t\t\t\tnode=390 test node: go to node 391 if Humidity3pm_High <= 0.5 else to node 396.\n",
      "\t\t\t\t\t\t\t\tnode=391 test node: go to node 392 if Humidity3pm_Low <= 0.5 else to node 395.\n",
      "\t\t\t\t\t\t\t\t\tnode=392 test node: go to node 393 if Humidity9am_Moderate <= 0.5 else to node 394.\n",
      "\t\t\t\t\t\t\t\t\t\tnode=393 leaf node. [class=1]  [0.0,1.5547008547008547]\n",
      "\t\t\t\t\t\t\t\t\t\tnode=394 leaf node. [class=0]  [0.7370340356564019,0.0]\n",
      "\t\t\t\t\t\t\t\t\tnode=395 leaf node. [class=1]  [0.0,1.5547008547008547]\n",
      "\t\t\t\t\t\t\t\tnode=396 leaf node. [class=0]  [1.4740680713128038,0.0]\n",
      "\t\t\t\t\t\tnode=397 test node: go to node 398 if Evaporation_High <= 0.5 else to node 399.\n",
      "\t\t\t\t\t\t\tnode=398 leaf node. [class=1]  [0.0,9.328205128205129]\n",
      "\t\t\t\t\t\t\tnode=399 test node: go to node 400 if WindSpeed9am_High <= 0.5 else to node 401.\n",
      "\t\t\t\t\t\t\t\tnode=400 leaf node. [class=0]  [1.4740680713128038,0.0]\n",
      "\t\t\t\t\t\t\t\tnode=401 test node: go to node 402 if Pressure9am_Moderate <= 0.5 else to node 407.\n",
      "\t\t\t\t\t\t\t\t\tnode=402 test node: go to node 403 if Humidity3pm_Low <= 0.5 else to node 406.\n",
      "\t\t\t\t\t\t\t\t\t\tnode=403 test node: go to node 404 if Humidity9am_Moderate <= 0.5 else to node 405.\n",
      "\t\t\t\t\t\t\t\t\t\t\tnode=404 leaf node. [class=1]  [0.0,3.1094017094017095]\n",
      "\t\t\t\t\t\t\t\t\t\t\tnode=405 leaf node. [class=0]  [0.7370340356564019,0.0]\n",
      "\t\t\t\t\t\t\t\t\t\tnode=406 leaf node. [class=0]  [1.4740680713128038,0.0]\n",
      "\t\t\t\t\t\t\t\t\tnode=407 leaf node. [class=1]  [0.0,6.218803418803419]\n",
      "\t\t\t\tnode=408 test node: go to node 409 if Humidity9am_Moderate <= 0.5 else to node 466.\n",
      "\t\t\t\t\tnode=409 test node: go to node 410 if Cloud9am_High <= 0.5 else to node 465.\n",
      "\t\t\t\t\t\tnode=410 test node: go to node 411 if Evaporation_Moderate <= 0.5 else to node 450.\n",
      "\t\t\t\t\t\t\tnode=411 test node: go to node 412 if Temp9am_Moderate <= 0.5 else to node 447.\n",
      "\t\t\t\t\t\t\t\tnode=412 test node: go to node 413 if Pressure3pm_Moderate <= 0.5 else to node 440.\n",
      "\t\t\t\t\t\t\t\t\tnode=413 test node: go to node 414 if WindSpeed9am_Moderate <= 0.5 else to node 439.\n",
      "\t\t\t\t\t\t\t\t\t\tnode=414 test node: go to node 415 if Cloud3pm_Moderate <= 0.5 else to node 432.\n",
      "\t\t\t\t\t\t\t\t\t\t\tnode=415 test node: go to node 416 if Humidity9am_High <= 0.5 else to node 429.\n",
      "\t\t\t\t\t\t\t\t\t\t\t\tnode=416 test node: go to node 417 if WindSpeed3pm_Low <= 0.5 else to node 428.\n",
      "\t\t\t\t\t\t\t\t\t\t\t\t\tnode=417 test node: go to node 418 if MaxTemp_Moderate <= 0.5 else to node 427.\n",
      "\t\t\t\t\t\t\t\t\t\t\t\t\t\tnode=418 test node: go to node 419 if Cloud3pm_High <= 0.5 else to node 426.\n",
      "\t\t\t\t\t\t\t\t\t\t\t\t\t\t\tnode=419 test node: go to node 420 if Evaporation_Low <= 0.5 else to node 425.\n",
      "\t\t\t\t\t\t\t\t\t\t\t\t\t\t\t\tnode=420 test node: go to node 421 if Cloud9am_Moderate <= 0.5 else to node 424.\n",
      "\t\t\t\t\t\t\t\t\t\t\t\t\t\t\t\t\tnode=421 test node: go to node 422 if Pressure3pm_High <= 0.5 else to node 423.\n",
      "\t\t\t\t\t\t\t\t\t\t\t\t\t\t\t\t\t\tnode=422 leaf node. [class=1]  [0.0,1.5547008547008547]\n",
      "\t\t\t\t\t\t\t\t\t\t\t\t\t\t\t\t\t\tnode=423 leaf node. [class=1]  [0.7370340356564019,1.5547008547008547]\n",
      "\t\t\t\t\t\t\t\t\t\t\t\t\t\t\t\t\tnode=424 leaf node. [class=0]  [0.7370340356564019,0.0]\n",
      "\t\t\t\t\t\t\t\t\t\t\t\t\t\t\t\tnode=425 leaf node. [class=0]  [1.4740680713128038,0.0]\n",
      "\t\t\t\t\t\t\t\t\t\t\t\t\t\t\tnode=426 leaf node. [class=0]  [1.4740680713128038,0.0]\n",
      "\t\t\t\t\t\t\t\t\t\t\t\t\t\tnode=427 leaf node. [class=0]  [1.4740680713128038,0.0]\n",
      "\t\t\t\t\t\t\t\t\t\t\t\t\tnode=428 leaf node. [class=0]  [4.422204213938412,0.0]\n",
      "\t\t\t\t\t\t\t\t\t\t\t\tnode=429 test node: go to node 430 if WindSpeed3pm_Low <= 0.5 else to node 431.\n",
      "\t\t\t\t\t\t\t\t\t\t\t\t\tnode=430 leaf node. [class=0]  [1.4740680713128038,0.0]\n",
      "\t\t\t\t\t\t\t\t\t\t\t\t\tnode=431 leaf node. [class=1]  [0.0,1.5547008547008547]\n",
      "\t\t\t\t\t\t\t\t\t\t\tnode=432 test node: go to node 433 if Cloud9am_Moderate <= 0.5 else to node 436.\n",
      "\t\t\t\t\t\t\t\t\t\t\t\tnode=433 test node: go to node 434 if Evaporation_Low <= 0.5 else to node 435.\n",
      "\t\t\t\t\t\t\t\t\t\t\t\t\tnode=434 leaf node. [class=1]  [0.0,3.1094017094017095]\n",
      "\t\t\t\t\t\t\t\t\t\t\t\t\tnode=435 leaf node. [class=0]  [0.7370340356564019,0.0]\n",
      "\t\t\t\t\t\t\t\t\t\t\t\tnode=436 test node: go to node 437 if Evaporation_High <= 0.5 else to node 438.\n",
      "\t\t\t\t\t\t\t\t\t\t\t\t\tnode=437 leaf node. [class=1]  [0.7370340356564019,1.5547008547008547]\n",
      "\t\t\t\t\t\t\t\t\t\t\t\t\tnode=438 leaf node. [class=0]  [2.9481361426256076,0.0]\n",
      "\t\t\t\t\t\t\t\t\t\tnode=439 leaf node. [class=0]  [2.9481361426256076,0.0]\n",
      "\t\t\t\t\t\t\t\t\tnode=440 test node: go to node 441 if WindSpeed9am_Moderate <= 0.5 else to node 442.\n",
      "\t\t\t\t\t\t\t\t\t\tnode=441 leaf node. [class=0]  [7.370340356564019,0.0]\n",
      "\t\t\t\t\t\t\t\t\t\tnode=442 test node: go to node 443 if Cloud3pm_Low <= 0.5 else to node 444.\n",
      "\t\t\t\t\t\t\t\t\t\t\tnode=443 leaf node. [class=0]  [2.211102106969206,0.0]\n",
      "\t\t\t\t\t\t\t\t\t\t\tnode=444 test node: go to node 445 if Humidity3pm_Low <= 0.5 else to node 446.\n",
      "\t\t\t\t\t\t\t\t\t\t\t\tnode=445 leaf node. [class=0]  [1.4740680713128038,0.0]\n",
      "\t\t\t\t\t\t\t\t\t\t\t\tnode=446 leaf node. [class=1]  [0.0,1.5547008547008547]\n",
      "\t\t\t\t\t\t\t\tnode=447 test node: go to node 448 if MaxTemp_Moderate <= 0.5 else to node 449.\n",
      "\t\t\t\t\t\t\t\t\tnode=448 leaf node. [class=1]  [0.0,1.5547008547008547]\n",
      "\t\t\t\t\t\t\t\t\tnode=449 leaf node. [class=0]  [0.7370340356564019,0.0]\n",
      "\t\t\t\t\t\t\tnode=450 test node: go to node 451 if Cloud9am_Moderate <= 0.5 else to node 452.\n",
      "\t\t\t\t\t\t\t\tnode=451 leaf node. [class=0]  [10.318476499189627,0.0]\n",
      "\t\t\t\t\t\t\t\tnode=452 test node: go to node 453 if WindSpeed9am_Low <= 0.5 else to node 454.\n",
      "\t\t\t\t\t\t\t\t\tnode=453 leaf node. [class=0]  [4.422204213938412,0.0]\n",
      "\t\t\t\t\t\t\t\t\tnode=454 test node: go to node 455 if Humidity9am_High <= 0.5 else to node 462.\n",
      "\t\t\t\t\t\t\t\t\t\tnode=455 test node: go to node 456 if WindSpeed3pm_Low <= 0.5 else to node 461.\n",
      "\t\t\t\t\t\t\t\t\t\t\tnode=456 test node: go to node 457 if Humidity3pm_High <= 0.5 else to node 460.\n",
      "\t\t\t\t\t\t\t\t\t\t\t\tnode=457 test node: go to node 458 if Cloud3pm_High <= 0.5 else to node 459.\n",
      "\t\t\t\t\t\t\t\t\t\t\t\t\tnode=458 leaf node. [class=1]  [0.0,1.5547008547008547]\n",
      "\t\t\t\t\t\t\t\t\t\t\t\t\tnode=459 leaf node. [class=0]  [0.7370340356564019,0.0]\n",
      "\t\t\t\t\t\t\t\t\t\t\t\tnode=460 leaf node. [class=0]  [0.7370340356564019,0.0]\n",
      "\t\t\t\t\t\t\t\t\t\t\tnode=461 leaf node. [class=0]  [2.9481361426256076,0.0]\n",
      "\t\t\t\t\t\t\t\t\t\tnode=462 test node: go to node 463 if WindSpeed3pm_Moderate <= 0.5 else to node 464.\n",
      "\t\t\t\t\t\t\t\t\t\t\tnode=463 leaf node. [class=1]  [0.0,1.5547008547008547]\n",
      "\t\t\t\t\t\t\t\t\t\t\tnode=464 leaf node. [class=0]  [0.7370340356564019,0.0]\n",
      "\t\t\t\t\t\tnode=465 leaf node. [class=0]  [8.107374392220422,0.0]\n",
      "\t\t\t\t\tnode=466 test node: go to node 467 if Pressure3pm_Moderate <= 0.5 else to node 516.\n",
      "\t\t\t\t\t\tnode=467 test node: go to node 468 if WindSpeed3pm_High <= 0.5 else to node 509.\n",
      "\t\t\t\t\t\t\tnode=468 test node: go to node 469 if Evaporation_Moderate <= 0.5 else to node 492.\n",
      "\t\t\t\t\t\t\t\tnode=469 test node: go to node 470 if Cloud9am_Moderate <= 0.5 else to node 487.\n",
      "\t\t\t\t\t\t\t\t\tnode=470 test node: go to node 471 if Cloud9am_High <= 0.5 else to node 486.\n",
      "\t\t\t\t\t\t\t\t\t\tnode=471 test node: go to node 472 if WindSpeed9am_Low <= 0.5 else to node 473.\n",
      "\t\t\t\t\t\t\t\t\t\t\tnode=472 leaf node. [class=0]  [1.4740680713128038,0.0]\n",
      "\t\t\t\t\t\t\t\t\t\t\tnode=473 test node: go to node 474 if Humidity3pm_Moderate <= 0.5 else to node 481.\n",
      "\t\t\t\t\t\t\t\t\t\t\t\tnode=474 test node: go to node 475 if Cloud3pm_Moderate <= 0.5 else to node 476.\n",
      "\t\t\t\t\t\t\t\t\t\t\t\t\tnode=475 leaf node. [class=0]  [2.211102106969206,0.0]\n",
      "\t\t\t\t\t\t\t\t\t\t\t\t\tnode=476 test node: go to node 477 if WindSpeed3pm_Moderate <= 0.5 else to node 480.\n",
      "\t\t\t\t\t\t\t\t\t\t\t\t\t\tnode=477 test node: go to node 478 if Evaporation_High <= 0.5 else to node 479.\n",
      "\t\t\t\t\t\t\t\t\t\t\t\t\t\t\tnode=478 leaf node. [class=1]  [0.7370340356564019,1.5547008547008547]\n",
      "\t\t\t\t\t\t\t\t\t\t\t\t\t\t\tnode=479 leaf node. [class=0]  [0.7370340356564019,0.0]\n",
      "\t\t\t\t\t\t\t\t\t\t\t\t\t\tnode=480 leaf node. [class=0]  [1.4740680713128038,0.0]\n",
      "\t\t\t\t\t\t\t\t\t\t\t\tnode=481 test node: go to node 482 if WindSpeed3pm_Low <= 0.5 else to node 485.\n",
      "\t\t\t\t\t\t\t\t\t\t\t\t\tnode=482 test node: go to node 483 if Cloud3pm_Moderate <= 0.5 else to node 484.\n",
      "\t\t\t\t\t\t\t\t\t\t\t\t\t\tnode=483 leaf node. [class=1]  [0.0,1.5547008547008547]\n",
      "\t\t\t\t\t\t\t\t\t\t\t\t\t\tnode=484 leaf node. [class=0]  [0.7370340356564019,0.0]\n",
      "\t\t\t\t\t\t\t\t\t\t\t\t\tnode=485 leaf node. [class=0]  [1.4740680713128038,0.0]\n",
      "\t\t\t\t\t\t\t\t\t\tnode=486 leaf node. [class=0]  [2.211102106969206,0.0]\n",
      "\t\t\t\t\t\t\t\t\tnode=487 test node: go to node 488 if WindSpeed3pm_Moderate <= 0.5 else to node 491.\n",
      "\t\t\t\t\t\t\t\t\t\tnode=488 test node: go to node 489 if Cloud3pm_Low <= 0.5 else to node 490.\n",
      "\t\t\t\t\t\t\t\t\t\t\tnode=489 leaf node. [class=1]  [0.0,3.1094017094017095]\n",
      "\t\t\t\t\t\t\t\t\t\t\tnode=490 leaf node. [class=0]  [0.7370340356564019,0.0]\n",
      "\t\t\t\t\t\t\t\t\t\tnode=491 leaf node. [class=0]  [2.211102106969206,0.0]\n",
      "\t\t\t\t\t\t\t\tnode=492 test node: go to node 493 if Cloud3pm_Low <= 0.5 else to node 504.\n",
      "\t\t\t\t\t\t\t\t\tnode=493 test node: go to node 494 if WindSpeed9am_High <= 0.5 else to node 503.\n",
      "\t\t\t\t\t\t\t\t\t\tnode=494 test node: go to node 495 if Pressure9am_Moderate <= 0.5 else to node 502.\n",
      "\t\t\t\t\t\t\t\t\t\t\tnode=495 test node: go to node 496 if WindSpeed3pm_Moderate <= 0.5 else to node 501.\n",
      "\t\t\t\t\t\t\t\t\t\t\t\tnode=496 test node: go to node 497 if Cloud9am_Moderate <= 0.5 else to node 500.\n",
      "\t\t\t\t\t\t\t\t\t\t\t\t\tnode=497 test node: go to node 498 if Cloud9am_Low <= 0.5 else to node 499.\n",
      "\t\t\t\t\t\t\t\t\t\t\t\t\t\tnode=498 leaf node. [class=1]  [0.7370340356564019,1.5547008547008547]\n",
      "\t\t\t\t\t\t\t\t\t\t\t\t\t\tnode=499 leaf node. [class=1]  [0.7370340356564019,1.5547008547008547]\n",
      "\t\t\t\t\t\t\t\t\t\t\t\t\tnode=500 leaf node. [class=1]  [0.0,3.1094017094017095]\n",
      "\t\t\t\t\t\t\t\t\t\t\t\tnode=501 leaf node. [class=0]  [0.7370340356564019,0.0]\n",
      "\t\t\t\t\t\t\t\t\t\t\tnode=502 leaf node. [class=1]  [0.0,1.5547008547008547]\n",
      "\t\t\t\t\t\t\t\t\t\tnode=503 leaf node. [class=0]  [0.7370340356564019,0.0]\n",
      "\t\t\t\t\t\t\t\t\tnode=504 test node: go to node 505 if Humidity3pm_High <= 0.5 else to node 506.\n",
      "\t\t\t\t\t\t\t\t\t\tnode=505 leaf node. [class=0]  [2.211102106969206,0.0]\n",
      "\t\t\t\t\t\t\t\t\t\tnode=506 test node: go to node 507 if WindSpeed3pm_Moderate <= 0.5 else to node 508.\n",
      "\t\t\t\t\t\t\t\t\t\t\tnode=507 leaf node. [class=0]  [1.4740680713128038,0.0]\n",
      "\t\t\t\t\t\t\t\t\t\t\tnode=508 leaf node. [class=1]  [0.0,1.5547008547008547]\n",
      "\t\t\t\t\t\t\tnode=509 test node: go to node 510 if Cloud3pm_High <= 0.5 else to node 515.\n",
      "\t\t\t\t\t\t\t\tnode=510 test node: go to node 511 if WindSpeed9am_Moderate <= 0.5 else to node 512.\n",
      "\t\t\t\t\t\t\t\t\tnode=511 leaf node. [class=1]  [0.0,6.218803418803419]\n",
      "\t\t\t\t\t\t\t\t\tnode=512 test node: go to node 513 if Cloud9am_High <= 0.5 else to node 514.\n",
      "\t\t\t\t\t\t\t\t\t\tnode=513 leaf node. [class=0]  [1.4740680713128038,0.0]\n",
      "\t\t\t\t\t\t\t\t\t\tnode=514 leaf node. [class=1]  [0.0,1.5547008547008547]\n",
      "\t\t\t\t\t\t\t\tnode=515 leaf node. [class=0]  [0.7370340356564019,0.0]\n",
      "\t\t\t\t\t\tnode=516 test node: go to node 517 if WindSpeed9am_High <= 0.5 else to node 518.\n",
      "\t\t\t\t\t\t\tnode=517 leaf node. [class=0]  [8.107374392220422,0.0]\n",
      "\t\t\t\t\t\t\tnode=518 test node: go to node 519 if Cloud3pm_Low <= 0.5 else to node 522.\n",
      "\t\t\t\t\t\t\t\tnode=519 test node: go to node 520 if Cloud9am_Moderate <= 0.5 else to node 521.\n",
      "\t\t\t\t\t\t\t\t\tnode=520 leaf node. [class=1]  [0.0,1.5547008547008547]\n",
      "\t\t\t\t\t\t\t\t\tnode=521 leaf node. [class=0]  [0.7370340356564019,0.0]\n",
      "\t\t\t\t\t\t\t\tnode=522 leaf node. [class=0]  [2.211102106969206,0.0]\n",
      "\t\t\tnode=523 test node: go to node 524 if WindSpeed9am_Moderate <= 0.5 else to node 573.\n",
      "\t\t\t\tnode=524 test node: go to node 525 if Humidity3pm_Low <= 0.5 else to node 570.\n",
      "\t\t\t\t\tnode=525 test node: go to node 526 if Pressure9am_High <= 0.5 else to node 561.\n",
      "\t\t\t\t\t\tnode=526 test node: go to node 527 if Temp3pm_High <= 0.5 else to node 536.\n",
      "\t\t\t\t\t\t\tnode=527 test node: go to node 528 if Humidity3pm_High <= 0.5 else to node 531.\n",
      "\t\t\t\t\t\t\t\tnode=528 test node: go to node 529 if Evaporation_High <= 0.5 else to node 530.\n",
      "\t\t\t\t\t\t\t\t\tnode=529 leaf node. [class=1]  [0.0,3.1094017094017095]\n",
      "\t\t\t\t\t\t\t\t\tnode=530 leaf node. [class=0]  [1.4740680713128038,0.0]\n",
      "\t\t\t\t\t\t\t\tnode=531 test node: go to node 532 if WindSpeed3pm_High <= 0.5 else to node 533.\n",
      "\t\t\t\t\t\t\t\t\tnode=532 leaf node. [class=1]  [0.0,37.312820512820515]\n",
      "\t\t\t\t\t\t\t\t\tnode=533 test node: go to node 534 if Evaporation_Low <= 0.5 else to node 535.\n",
      "\t\t\t\t\t\t\t\t\t\tnode=534 leaf node. [class=1]  [0.0,3.1094017094017095]\n",
      "\t\t\t\t\t\t\t\t\t\tnode=535 leaf node. [class=0]  [0.7370340356564019,0.0]\n",
      "\t\t\t\t\t\t\tnode=536 test node: go to node 537 if Humidity3pm_Moderate <= 0.5 else to node 560.\n",
      "\t\t\t\t\t\t\t\tnode=537 test node: go to node 538 if Temp9am_Moderate <= 0.5 else to node 559.\n",
      "\t\t\t\t\t\t\t\t\tnode=538 test node: go to node 539 if Pressure3pm_Low <= 0.5 else to node 542.\n",
      "\t\t\t\t\t\t\t\t\t\tnode=539 test node: go to node 540 if Cloud3pm_Moderate <= 0.5 else to node 541.\n",
      "\t\t\t\t\t\t\t\t\t\t\tnode=540 leaf node. [class=1]  [0.0,4.664102564102564]\n",
      "\t\t\t\t\t\t\t\t\t\t\tnode=541 leaf node. [class=0]  [0.7370340356564019,0.0]\n",
      "\t\t\t\t\t\t\t\t\t\tnode=542 test node: go to node 543 if WindSpeed9am_Low <= 0.5 else to node 544.\n",
      "\t\t\t\t\t\t\t\t\t\t\tnode=543 leaf node. [class=0]  [2.211102106969206,0.0]\n",
      "\t\t\t\t\t\t\t\t\t\t\tnode=544 test node: go to node 545 if Cloud9am_Moderate <= 0.5 else to node 556.\n",
      "\t\t\t\t\t\t\t\t\t\t\t\tnode=545 test node: go to node 546 if Cloud3pm_Moderate <= 0.5 else to node 555.\n",
      "\t\t\t\t\t\t\t\t\t\t\t\t\tnode=546 test node: go to node 547 if Evaporation_Low <= 0.5 else to node 554.\n",
      "\t\t\t\t\t\t\t\t\t\t\t\t\t\tnode=547 test node: go to node 548 if Cloud9am_Low <= 0.5 else to node 553.\n",
      "\t\t\t\t\t\t\t\t\t\t\t\t\t\t\tnode=548 test node: go to node 549 if WindSpeed3pm_Moderate <= 0.5 else to node 550.\n",
      "\t\t\t\t\t\t\t\t\t\t\t\t\t\t\t\tnode=549 leaf node. [class=1]  [0.0,1.5547008547008547]\n",
      "\t\t\t\t\t\t\t\t\t\t\t\t\t\t\t\tnode=550 test node: go to node 551 if Humidity9am_Moderate <= 0.5 else to node 552.\n",
      "\t\t\t\t\t\t\t\t\t\t\t\t\t\t\t\t\tnode=551 leaf node. [class=1]  [0.7370340356564019,1.5547008547008547]\n",
      "\t\t\t\t\t\t\t\t\t\t\t\t\t\t\t\t\tnode=552 leaf node. [class=1]  [0.0,1.5547008547008547]\n",
      "\t\t\t\t\t\t\t\t\t\t\t\t\t\t\tnode=553 leaf node. [class=0]  [0.7370340356564019,0.0]\n",
      "\t\t\t\t\t\t\t\t\t\t\t\t\t\tnode=554 leaf node. [class=0]  [1.4740680713128038,0.0]\n",
      "\t\t\t\t\t\t\t\t\t\t\t\t\tnode=555 leaf node. [class=1]  [0.0,6.218803418803419]\n",
      "\t\t\t\t\t\t\t\t\t\t\t\tnode=556 test node: go to node 557 if Evaporation_Moderate <= 0.5 else to node 558.\n",
      "\t\t\t\t\t\t\t\t\t\t\t\t\tnode=557 leaf node. [class=0]  [2.211102106969206,0.0]\n",
      "\t\t\t\t\t\t\t\t\t\t\t\t\tnode=558 leaf node. [class=1]  [0.0,1.5547008547008547]\n",
      "\t\t\t\t\t\t\t\t\tnode=559 leaf node. [class=1]  [0.0,4.664102564102564]\n",
      "\t\t\t\t\t\t\t\tnode=560 leaf node. [class=1]  [0.0,10.882905982905983]\n",
      "\t\t\t\t\t\tnode=561 test node: go to node 562 if MaxTemp_Low <= 0.5 else to node 569.\n",
      "\t\t\t\t\t\t\tnode=562 test node: go to node 563 if WindSpeed3pm_High <= 0.5 else to node 568.\n",
      "\t\t\t\t\t\t\t\tnode=563 test node: go to node 564 if Humidity3pm_High <= 0.5 else to node 567.\n",
      "\t\t\t\t\t\t\t\t\tnode=564 test node: go to node 565 if Temp3pm_Moderate <= 0.5 else to node 566.\n",
      "\t\t\t\t\t\t\t\t\t\tnode=565 leaf node. [class=1]  [0.0,1.5547008547008547]\n",
      "\t\t\t\t\t\t\t\t\t\tnode=566 leaf node. [class=0]  [0.7370340356564019,0.0]\n",
      "\t\t\t\t\t\t\t\t\tnode=567 leaf node. [class=1]  [0.0,4.664102564102564]\n",
      "\t\t\t\t\t\t\t\tnode=568 leaf node. [class=0]  [0.7370340356564019,0.0]\n",
      "\t\t\t\t\t\t\tnode=569 leaf node. [class=0]  [2.211102106969206,0.0]\n",
      "\t\t\t\t\tnode=570 test node: go to node 571 if Pressure9am_Moderate <= 0.5 else to node 572.\n",
      "\t\t\t\t\t\tnode=571 leaf node. [class=0]  [3.6851701782820094,0.0]\n",
      "\t\t\t\t\t\tnode=572 leaf node. [class=1]  [0.0,1.5547008547008547]\n",
      "\t\t\t\tnode=573 test node: go to node 574 if Temp9am_High <= 0.5 else to node 581.\n",
      "\t\t\t\t\tnode=574 test node: go to node 575 if Pressure9am_Moderate <= 0.5 else to node 580.\n",
      "\t\t\t\t\t\tnode=575 test node: go to node 576 if Humidity3pm_Moderate <= 0.5 else to node 579.\n",
      "\t\t\t\t\t\t\tnode=576 test node: go to node 577 if Evaporation_High <= 0.5 else to node 578.\n",
      "\t\t\t\t\t\t\t\tnode=577 leaf node. [class=1]  [0.0,3.1094017094017095]\n",
      "\t\t\t\t\t\t\t\tnode=578 leaf node. [class=0]  [0.7370340356564019,0.0]\n",
      "\t\t\t\t\t\t\tnode=579 leaf node. [class=0]  [2.211102106969206,0.0]\n",
      "\t\t\t\t\t\tnode=580 leaf node. [class=0]  [4.422204213938412,0.0]\n",
      "\t\t\t\t\tnode=581 test node: go to node 582 if Evaporation_High <= 0.5 else to node 587.\n",
      "\t\t\t\t\t\tnode=582 test node: go to node 583 if Humidity9am_High <= 0.5 else to node 584.\n",
      "\t\t\t\t\t\t\tnode=583 leaf node. [class=1]  [0.0,9.328205128205129]\n",
      "\t\t\t\t\t\t\tnode=584 test node: go to node 585 if Temp3pm_High <= 0.5 else to node 586.\n",
      "\t\t\t\t\t\t\t\tnode=585 leaf node. [class=1]  [0.0,3.1094017094017095]\n",
      "\t\t\t\t\t\t\t\tnode=586 leaf node. [class=0]  [1.4740680713128038,0.0]\n",
      "\t\t\t\t\t\tnode=587 test node: go to node 588 if Pressure9am_Low <= 0.5 else to node 589.\n",
      "\t\t\t\t\t\t\tnode=588 leaf node. [class=0]  [2.211102106969206,0.0]\n",
      "\t\t\t\t\t\t\tnode=589 test node: go to node 590 if WindSpeed3pm_High <= 0.5 else to node 595.\n",
      "\t\t\t\t\t\t\t\tnode=590 test node: go to node 591 if WindSpeed3pm_Low <= 0.5 else to node 592.\n",
      "\t\t\t\t\t\t\t\t\tnode=591 leaf node. [class=1]  [0.0,1.5547008547008547]\n",
      "\t\t\t\t\t\t\t\t\tnode=592 test node: go to node 593 if Cloud9am_High <= 0.5 else to node 594.\n",
      "\t\t\t\t\t\t\t\t\t\tnode=593 leaf node. [class=1]  [0.0,1.5547008547008547]\n",
      "\t\t\t\t\t\t\t\t\t\tnode=594 leaf node. [class=0]  [0.7370340356564019,0.0]\n",
      "\t\t\t\t\t\t\t\tnode=595 leaf node. [class=0]  [0.7370340356564019,0.0]\n",
      "\tnode=596 test node: go to node 597 if Humidity3pm_High <= 0.5 else to node 760.\n",
      "\t\tnode=597 test node: go to node 598 if Cloud9am_Low <= 0.5 else to node 723.\n",
      "\t\t\tnode=598 test node: go to node 599 if Humidity9am_Moderate <= 0.5 else to node 686.\n",
      "\t\t\t\tnode=599 test node: go to node 600 if Pressure9am_Moderate <= 0.5 else to node 659.\n",
      "\t\t\t\t\tnode=600 test node: go to node 601 if Temp9am_Low <= 0.5 else to node 634.\n",
      "\t\t\t\t\t\tnode=601 test node: go to node 602 if Temp3pm_High <= 0.5 else to node 613.\n",
      "\t\t\t\t\t\t\tnode=602 test node: go to node 603 if Sunshine_High <= 0.5 else to node 612.\n",
      "\t\t\t\t\t\t\t\tnode=603 test node: go to node 604 if Sunshine_Low <= 0.5 else to node 611.\n",
      "\t\t\t\t\t\t\t\t\tnode=604 test node: go to node 605 if Evaporation_High <= 0.5 else to node 606.\n",
      "\t\t\t\t\t\t\t\t\t\tnode=605 leaf node. [class=0]  [2.211102106969206,0.0]\n",
      "\t\t\t\t\t\t\t\t\t\tnode=606 test node: go to node 607 if Pressure3pm_Moderate <= 0.5 else to node 610.\n",
      "\t\t\t\t\t\t\t\t\t\t\tnode=607 test node: go to node 608 if Humidity9am_Low <= 0.5 else to node 609.\n",
      "\t\t\t\t\t\t\t\t\t\t\t\tnode=608 leaf node. [class=1]  [0.0,1.5547008547008547]\n",
      "\t\t\t\t\t\t\t\t\t\t\t\tnode=609 leaf node. [class=0]  [0.7370340356564019,0.0]\n",
      "\t\t\t\t\t\t\t\t\t\t\tnode=610 leaf node. [class=0]  [0.7370340356564019,0.0]\n",
      "\t\t\t\t\t\t\t\t\tnode=611 leaf node. [class=0]  [5.896272285251215,0.0]\n",
      "\t\t\t\t\t\t\t\tnode=612 leaf node. [class=1]  [0.0,1.5547008547008547]\n",
      "\t\t\t\t\t\t\tnode=613 test node: go to node 614 if Cloud3pm_Low <= 0.5 else to node 629.\n",
      "\t\t\t\t\t\t\t\tnode=614 test node: go to node 615 if Sunshine_Low <= 0.5 else to node 622.\n",
      "\t\t\t\t\t\t\t\t\tnode=615 test node: go to node 616 if WindSpeed3pm_Low <= 0.5 else to node 621.\n",
      "\t\t\t\t\t\t\t\t\t\tnode=616 test node: go to node 617 if Cloud3pm_High <= 0.5 else to node 618.\n",
      "\t\t\t\t\t\t\t\t\t\t\tnode=617 leaf node. [class=0]  [6.633306320907617,0.0]\n",
      "\t\t\t\t\t\t\t\t\t\t\tnode=618 test node: go to node 619 if Temp9am_Moderate <= 0.5 else to node 620.\n",
      "\t\t\t\t\t\t\t\t\t\t\t\tnode=619 leaf node. [class=0]  [1.4740680713128038,0.0]\n",
      "\t\t\t\t\t\t\t\t\t\t\t\tnode=620 leaf node. [class=1]  [0.0,1.5547008547008547]\n",
      "\t\t\t\t\t\t\t\t\t\tnode=621 leaf node. [class=1]  [0.0,3.1094017094017095]\n",
      "\t\t\t\t\t\t\t\t\tnode=622 test node: go to node 623 if WindSpeed3pm_Low <= 0.5 else to node 628.\n",
      "\t\t\t\t\t\t\t\t\t\tnode=623 test node: go to node 624 if Evaporation_Moderate <= 0.5 else to node 625.\n",
      "\t\t\t\t\t\t\t\t\t\t\tnode=624 leaf node. [class=1]  [0.0,7.773504273504273]\n",
      "\t\t\t\t\t\t\t\t\t\t\tnode=625 test node: go to node 626 if WindSpeed9am_Low <= 0.5 else to node 627.\n",
      "\t\t\t\t\t\t\t\t\t\t\t\tnode=626 leaf node. [class=1]  [0.0,1.5547008547008547]\n",
      "\t\t\t\t\t\t\t\t\t\t\t\tnode=627 leaf node. [class=0]  [0.7370340356564019,0.0]\n",
      "\t\t\t\t\t\t\t\t\t\tnode=628 leaf node. [class=0]  [2.9481361426256076,0.0]\n",
      "\t\t\t\t\t\t\t\tnode=629 test node: go to node 630 if WindSpeed9am_Low <= 0.5 else to node 631.\n",
      "\t\t\t\t\t\t\t\t\tnode=630 leaf node. [class=1]  [0.0,6.218803418803419]\n",
      "\t\t\t\t\t\t\t\t\tnode=631 test node: go to node 632 if WindSpeed3pm_High <= 0.5 else to node 633.\n",
      "\t\t\t\t\t\t\t\t\t\tnode=632 leaf node. [class=1]  [0.0,1.5547008547008547]\n",
      "\t\t\t\t\t\t\t\t\t\tnode=633 leaf node. [class=0]  [0.7370340356564019,0.0]\n",
      "\t\t\t\t\t\tnode=634 test node: go to node 635 if Cloud3pm_High <= 0.5 else to node 656.\n",
      "\t\t\t\t\t\t\tnode=635 test node: go to node 636 if Pressure9am_Low <= 0.5 else to node 655.\n",
      "\t\t\t\t\t\t\t\tnode=636 test node: go to node 637 if MinTemp_Low <= 0.5 else to node 642.\n",
      "\t\t\t\t\t\t\t\t\tnode=637 test node: go to node 638 if WindSpeed3pm_Moderate <= 0.5 else to node 639.\n",
      "\t\t\t\t\t\t\t\t\t\tnode=638 leaf node. [class=1]  [0.0,15.547008547008547]\n",
      "\t\t\t\t\t\t\t\t\t\tnode=639 test node: go to node 640 if Sunshine_Moderate <= 0.5 else to node 641.\n",
      "\t\t\t\t\t\t\t\t\t\t\tnode=640 leaf node. [class=1]  [0.0,3.1094017094017095]\n",
      "\t\t\t\t\t\t\t\t\t\t\tnode=641 leaf node. [class=0]  [1.4740680713128038,0.0]\n",
      "\t\t\t\t\t\t\t\t\tnode=642 test node: go to node 643 if WindSpeed9am_Moderate <= 0.5 else to node 654.\n",
      "\t\t\t\t\t\t\t\t\t\tnode=643 test node: go to node 644 if Evaporation_High <= 0.5 else to node 653.\n",
      "\t\t\t\t\t\t\t\t\t\t\tnode=644 test node: go to node 645 if Cloud9am_Moderate <= 0.5 else to node 652.\n",
      "\t\t\t\t\t\t\t\t\t\t\t\tnode=645 test node: go to node 646 if Cloud3pm_Low <= 0.5 else to node 651.\n",
      "\t\t\t\t\t\t\t\t\t\t\t\t\tnode=646 test node: go to node 647 if WindSpeed9am_Low <= 0.5 else to node 650.\n",
      "\t\t\t\t\t\t\t\t\t\t\t\t\t\tnode=647 test node: go to node 648 if Evaporation_Low <= 0.5 else to node 649.\n",
      "\t\t\t\t\t\t\t\t\t\t\t\t\t\t\tnode=648 leaf node. [class=1]  [0.0,1.5547008547008547]\n",
      "\t\t\t\t\t\t\t\t\t\t\t\t\t\t\tnode=649 leaf node. [class=0]  [0.7370340356564019,0.0]\n",
      "\t\t\t\t\t\t\t\t\t\t\t\t\t\tnode=650 leaf node. [class=1]  [0.0,3.1094017094017095]\n",
      "\t\t\t\t\t\t\t\t\t\t\t\t\tnode=651 leaf node. [class=0]  [0.7370340356564019,0.0]\n",
      "\t\t\t\t\t\t\t\t\t\t\t\tnode=652 leaf node. [class=1]  [0.0,4.664102564102564]\n",
      "\t\t\t\t\t\t\t\t\t\t\tnode=653 leaf node. [class=0]  [0.7370340356564019,0.0]\n",
      "\t\t\t\t\t\t\t\t\t\tnode=654 leaf node. [class=0]  [0.7370340356564019,0.0]\n",
      "\t\t\t\t\t\t\t\tnode=655 leaf node. [class=0]  [0.7370340356564019,0.0]\n",
      "\t\t\t\t\t\t\tnode=656 test node: go to node 657 if Pressure3pm_High <= 0.5 else to node 658.\n",
      "\t\t\t\t\t\t\t\tnode=657 leaf node. [class=1]  [0.0,3.1094017094017095]\n",
      "\t\t\t\t\t\t\t\tnode=658 leaf node. [class=0]  [4.422204213938412,0.0]\n",
      "\t\t\t\t\tnode=659 test node: go to node 660 if Sunshine_High <= 0.5 else to node 681.\n",
      "\t\t\t\t\t\tnode=660 test node: go to node 661 if Temp9am_Low <= 0.5 else to node 678.\n",
      "\t\t\t\t\t\t\tnode=661 test node: go to node 662 if MaxTemp_High <= 0.5 else to node 671.\n",
      "\t\t\t\t\t\t\t\tnode=662 test node: go to node 663 if Cloud3pm_Low <= 0.5 else to node 670.\n",
      "\t\t\t\t\t\t\t\t\tnode=663 test node: go to node 664 if WindSpeed3pm_Moderate <= 0.5 else to node 665.\n",
      "\t\t\t\t\t\t\t\t\t\tnode=664 leaf node. [class=1]  [0.0,6.218803418803419]\n",
      "\t\t\t\t\t\t\t\t\t\tnode=665 test node: go to node 666 if Evaporation_Low <= 0.5 else to node 669.\n",
      "\t\t\t\t\t\t\t\t\t\t\tnode=666 test node: go to node 667 if Temp3pm_High <= 0.5 else to node 668.\n",
      "\t\t\t\t\t\t\t\t\t\t\t\tnode=667 leaf node. [class=1]  [0.0,4.664102564102564]\n",
      "\t\t\t\t\t\t\t\t\t\t\t\tnode=668 leaf node. [class=0]  [0.7370340356564019,0.0]\n",
      "\t\t\t\t\t\t\t\t\t\t\tnode=669 leaf node. [class=0]  [0.7370340356564019,0.0]\n",
      "\t\t\t\t\t\t\t\t\tnode=670 leaf node. [class=0]  [0.7370340356564019,0.0]\n",
      "\t\t\t\t\t\t\t\tnode=671 test node: go to node 672 if WindSpeed3pm_High <= 0.5 else to node 673.\n",
      "\t\t\t\t\t\t\t\t\tnode=672 leaf node. [class=1]  [0.0,17.101709401709403]\n",
      "\t\t\t\t\t\t\t\t\tnode=673 test node: go to node 674 if Temp9am_Moderate <= 0.5 else to node 677.\n",
      "\t\t\t\t\t\t\t\t\t\tnode=674 test node: go to node 675 if WindSpeed9am_Low <= 0.5 else to node 676.\n",
      "\t\t\t\t\t\t\t\t\t\t\tnode=675 leaf node. [class=1]  [0.0,1.5547008547008547]\n",
      "\t\t\t\t\t\t\t\t\t\t\tnode=676 leaf node. [class=0]  [0.7370340356564019,0.0]\n",
      "\t\t\t\t\t\t\t\t\t\tnode=677 leaf node. [class=1]  [0.0,4.664102564102564]\n",
      "\t\t\t\t\t\t\tnode=678 test node: go to node 679 if MaxTemp_High <= 0.5 else to node 680.\n",
      "\t\t\t\t\t\t\t\tnode=679 leaf node. [class=0]  [2.211102106969206,0.0]\n",
      "\t\t\t\t\t\t\t\tnode=680 leaf node. [class=1]  [0.0,1.5547008547008547]\n",
      "\t\t\t\t\t\tnode=681 test node: go to node 682 if MaxTemp_High <= 0.5 else to node 683.\n",
      "\t\t\t\t\t\t\tnode=682 leaf node. [class=0]  [2.211102106969206,0.0]\n",
      "\t\t\t\t\t\t\tnode=683 test node: go to node 684 if Temp9am_Moderate <= 0.5 else to node 685.\n",
      "\t\t\t\t\t\t\t\tnode=684 leaf node. [class=0]  [1.4740680713128038,0.0]\n",
      "\t\t\t\t\t\t\t\tnode=685 leaf node. [class=1]  [0.0,1.5547008547008547]\n",
      "\t\t\t\tnode=686 test node: go to node 687 if Temp3pm_Moderate <= 0.5 else to node 716.\n",
      "\t\t\t\t\tnode=687 test node: go to node 688 if Pressure9am_High <= 0.5 else to node 713.\n",
      "\t\t\t\t\t\tnode=688 test node: go to node 689 if Cloud3pm_Low <= 0.5 else to node 712.\n",
      "\t\t\t\t\t\t\tnode=689 test node: go to node 690 if Humidity3pm_Moderate <= 0.5 else to node 697.\n",
      "\t\t\t\t\t\t\t\tnode=690 test node: go to node 691 if MinTemp_Moderate <= 0.5 else to node 696.\n",
      "\t\t\t\t\t\t\t\t\tnode=691 test node: go to node 692 if WindSpeed9am_Moderate <= 0.5 else to node 695.\n",
      "\t\t\t\t\t\t\t\t\t\tnode=692 test node: go to node 693 if Evaporation_Low <= 0.5 else to node 694.\n",
      "\t\t\t\t\t\t\t\t\t\t\tnode=693 leaf node. [class=1]  [0.0,1.5547008547008547]\n",
      "\t\t\t\t\t\t\t\t\t\t\tnode=694 leaf node. [class=0]  [0.7370340356564019,0.0]\n",
      "\t\t\t\t\t\t\t\t\t\tnode=695 leaf node. [class=1]  [0.0,3.1094017094017095]\n",
      "\t\t\t\t\t\t\t\t\tnode=696 leaf node. [class=0]  [0.7370340356564019,0.0]\n",
      "\t\t\t\t\t\t\t\tnode=697 test node: go to node 698 if WindSpeed9am_Moderate <= 0.5 else to node 711.\n",
      "\t\t\t\t\t\t\t\t\tnode=698 test node: go to node 699 if Cloud3pm_Moderate <= 0.5 else to node 702.\n",
      "\t\t\t\t\t\t\t\t\t\tnode=699 test node: go to node 700 if MaxTemp_Moderate <= 0.5 else to node 701.\n",
      "\t\t\t\t\t\t\t\t\t\t\tnode=700 leaf node. [class=1]  [0.0,4.664102564102564]\n",
      "\t\t\t\t\t\t\t\t\t\t\tnode=701 leaf node. [class=0]  [0.7370340356564019,0.0]\n",
      "\t\t\t\t\t\t\t\t\t\tnode=702 test node: go to node 703 if Cloud9am_High <= 0.5 else to node 708.\n",
      "\t\t\t\t\t\t\t\t\t\t\tnode=703 test node: go to node 704 if Sunshine_Low <= 0.5 else to node 705.\n",
      "\t\t\t\t\t\t\t\t\t\t\t\tnode=704 leaf node. [class=0]  [4.422204213938412,0.0]\n",
      "\t\t\t\t\t\t\t\t\t\t\t\tnode=705 test node: go to node 706 if Evaporation_Low <= 0.5 else to node 707.\n",
      "\t\t\t\t\t\t\t\t\t\t\t\t\tnode=706 leaf node. [class=1]  [0.0,1.5547008547008547]\n",
      "\t\t\t\t\t\t\t\t\t\t\t\t\tnode=707 leaf node. [class=0]  [0.7370340356564019,0.0]\n",
      "\t\t\t\t\t\t\t\t\t\t\tnode=708 test node: go to node 709 if Evaporation_High <= 0.5 else to node 710.\n",
      "\t\t\t\t\t\t\t\t\t\t\t\tnode=709 leaf node. [class=1]  [0.0,3.1094017094017095]\n",
      "\t\t\t\t\t\t\t\t\t\t\t\tnode=710 leaf node. [class=0]  [0.7370340356564019,0.0]\n",
      "\t\t\t\t\t\t\t\t\tnode=711 leaf node. [class=0]  [2.9481361426256076,0.0]\n",
      "\t\t\t\t\t\t\tnode=712 leaf node. [class=0]  [1.4740680713128038,0.0]\n",
      "\t\t\t\t\t\tnode=713 test node: go to node 714 if Sunshine_Low <= 0.5 else to node 715.\n",
      "\t\t\t\t\t\t\tnode=714 leaf node. [class=1]  [0.0,6.218803418803419]\n",
      "\t\t\t\t\t\t\tnode=715 leaf node. [class=0]  [0.7370340356564019,0.0]\n",
      "\t\t\t\t\tnode=716 test node: go to node 717 if Cloud9am_High <= 0.5 else to node 722.\n",
      "\t\t\t\t\t\tnode=717 test node: go to node 718 if Cloud3pm_High <= 0.5 else to node 719.\n",
      "\t\t\t\t\t\t\tnode=718 leaf node. [class=0]  [2.9481361426256076,0.0]\n",
      "\t\t\t\t\t\t\tnode=719 test node: go to node 720 if Evaporation_Low <= 0.5 else to node 721.\n",
      "\t\t\t\t\t\t\t\tnode=720 leaf node. [class=1]  [0.0,4.664102564102564]\n",
      "\t\t\t\t\t\t\t\tnode=721 leaf node. [class=0]  [0.7370340356564019,0.0]\n",
      "\t\t\t\t\t\tnode=722 leaf node. [class=0]  [3.6851701782820094,0.0]\n",
      "\t\t\tnode=723 test node: go to node 724 if WindSpeed9am_Moderate <= 0.5 else to node 759.\n",
      "\t\t\t\tnode=724 test node: go to node 725 if Evaporation_High <= 0.5 else to node 740.\n",
      "\t\t\t\t\tnode=725 test node: go to node 726 if WindSpeed3pm_Moderate <= 0.5 else to node 731.\n",
      "\t\t\t\t\t\tnode=726 test node: go to node 727 if WindSpeed9am_High <= 0.5 else to node 730.\n",
      "\t\t\t\t\t\t\tnode=727 test node: go to node 728 if WindSpeed3pm_High <= 0.5 else to node 729.\n",
      "\t\t\t\t\t\t\t\tnode=728 leaf node. [class=0]  [2.9481361426256076,0.0]\n",
      "\t\t\t\t\t\t\t\tnode=729 leaf node. [class=1]  [0.0,1.5547008547008547]\n",
      "\t\t\t\t\t\t\tnode=730 leaf node. [class=0]  [10.318476499189627,0.0]\n",
      "\t\t\t\t\t\tnode=731 test node: go to node 732 if Temp3pm_Low <= 0.5 else to node 737.\n",
      "\t\t\t\t\t\t\tnode=732 test node: go to node 733 if WindSpeed9am_High <= 0.5 else to node 736.\n",
      "\t\t\t\t\t\t\t\tnode=733 test node: go to node 734 if Humidity3pm_Moderate <= 0.5 else to node 735.\n",
      "\t\t\t\t\t\t\t\t\tnode=734 leaf node. [class=1]  [0.0,1.5547008547008547]\n",
      "\t\t\t\t\t\t\t\t\tnode=735 leaf node. [class=0]  [0.7370340356564019,0.0]\n",
      "\t\t\t\t\t\t\t\tnode=736 leaf node. [class=0]  [3.6851701782820094,0.0]\n",
      "\t\t\t\t\t\t\tnode=737 test node: go to node 738 if Sunshine_Low <= 0.5 else to node 739.\n",
      "\t\t\t\t\t\t\t\tnode=738 leaf node. [class=1]  [0.0,3.1094017094017095]\n",
      "\t\t\t\t\t\t\t\tnode=739 leaf node. [class=0]  [0.7370340356564019,0.0]\n",
      "\t\t\t\t\tnode=740 test node: go to node 741 if Pressure3pm_Moderate <= 0.5 else to node 758.\n",
      "\t\t\t\t\t\tnode=741 test node: go to node 742 if WindSpeed3pm_Moderate <= 0.5 else to node 757.\n",
      "\t\t\t\t\t\t\tnode=742 test node: go to node 743 if Temp3pm_Moderate <= 0.5 else to node 754.\n",
      "\t\t\t\t\t\t\t\tnode=743 test node: go to node 744 if Pressure3pm_High <= 0.5 else to node 753.\n",
      "\t\t\t\t\t\t\t\t\tnode=744 test node: go to node 745 if Cloud3pm_Low <= 0.5 else to node 752.\n",
      "\t\t\t\t\t\t\t\t\t\tnode=745 test node: go to node 746 if Humidity9am_High <= 0.5 else to node 751.\n",
      "\t\t\t\t\t\t\t\t\t\t\tnode=746 test node: go to node 747 if Cloud3pm_High <= 0.5 else to node 750.\n",
      "\t\t\t\t\t\t\t\t\t\t\t\tnode=747 test node: go to node 748 if WindSpeed3pm_High <= 0.5 else to node 749.\n",
      "\t\t\t\t\t\t\t\t\t\t\t\t\tnode=748 leaf node. [class=1]  [0.7370340356564019,1.5547008547008547]\n",
      "\t\t\t\t\t\t\t\t\t\t\t\t\tnode=749 leaf node. [class=1]  [0.0,1.5547008547008547]\n",
      "\t\t\t\t\t\t\t\t\t\t\t\tnode=750 leaf node. [class=0]  [0.7370340356564019,0.0]\n",
      "\t\t\t\t\t\t\t\t\t\t\tnode=751 leaf node. [class=1]  [0.0,1.5547008547008547]\n",
      "\t\t\t\t\t\t\t\t\t\tnode=752 leaf node. [class=1]  [0.0,1.5547008547008547]\n",
      "\t\t\t\t\t\t\t\t\tnode=753 leaf node. [class=1]  [0.0,6.218803418803419]\n",
      "\t\t\t\t\t\t\t\tnode=754 test node: go to node 755 if Cloud3pm_Low <= 0.5 else to node 756.\n",
      "\t\t\t\t\t\t\t\t\tnode=755 leaf node. [class=0]  [1.4740680713128038,0.0]\n",
      "\t\t\t\t\t\t\t\t\tnode=756 leaf node. [class=1]  [0.0,1.5547008547008547]\n",
      "\t\t\t\t\t\t\tnode=757 leaf node. [class=0]  [0.7370340356564019,0.0]\n",
      "\t\t\t\t\t\tnode=758 leaf node. [class=0]  [2.211102106969206,0.0]\n",
      "\t\t\t\tnode=759 leaf node. [class=0]  [16.951782820097247,0.0]\n",
      "\t\tnode=760 test node: go to node 761 if Sunshine_High <= 0.5 else to node 1022.\n",
      "\t\t\tnode=761 test node: go to node 762 if Cloud3pm_Moderate <= 0.5 else to node 919.\n",
      "\t\t\t\tnode=762 test node: go to node 763 if Temp3pm_High <= 0.5 else to node 862.\n",
      "\t\t\t\t\tnode=763 test node: go to node 764 if MinTemp_High <= 0.5 else to node 837.\n",
      "\t\t\t\t\t\tnode=764 test node: go to node 765 if Evaporation_Low <= 0.5 else to node 788.\n",
      "\t\t\t\t\t\t\tnode=765 test node: go to node 766 if WindSpeed3pm_High <= 0.5 else to node 783.\n",
      "\t\t\t\t\t\t\t\tnode=766 test node: go to node 767 if Pressure9am_Moderate <= 0.5 else to node 776.\n",
      "\t\t\t\t\t\t\t\t\tnode=767 test node: go to node 768 if Sunshine_Low <= 0.5 else to node 775.\n",
      "\t\t\t\t\t\t\t\t\t\tnode=768 test node: go to node 769 if WindSpeed3pm_Moderate <= 0.5 else to node 770.\n",
      "\t\t\t\t\t\t\t\t\t\t\tnode=769 leaf node. [class=1]  [0.0,6.218803418803419]\n",
      "\t\t\t\t\t\t\t\t\t\t\tnode=770 test node: go to node 771 if WindSpeed9am_Low <= 0.5 else to node 774.\n",
      "\t\t\t\t\t\t\t\t\t\t\t\tnode=771 test node: go to node 772 if MinTemp_Low <= 0.5 else to node 773.\n",
      "\t\t\t\t\t\t\t\t\t\t\t\t\tnode=772 leaf node. [class=1]  [0.0,1.5547008547008547]\n",
      "\t\t\t\t\t\t\t\t\t\t\t\t\tnode=773 leaf node. [class=0]  [0.7370340356564019,0.0]\n",
      "\t\t\t\t\t\t\t\t\t\t\t\tnode=774 leaf node. [class=0]  [0.7370340356564019,0.0]\n",
      "\t\t\t\t\t\t\t\t\t\tnode=775 leaf node. [class=1]  [0.0,12.437606837606838]\n",
      "\t\t\t\t\t\t\t\t\tnode=776 test node: go to node 777 if Pressure3pm_Moderate <= 0.5 else to node 782.\n",
      "\t\t\t\t\t\t\t\t\t\tnode=777 test node: go to node 778 if Sunshine_Moderate <= 0.5 else to node 781.\n",
      "\t\t\t\t\t\t\t\t\t\t\tnode=778 test node: go to node 779 if WindSpeed9am_Moderate <= 0.5 else to node 780.\n",
      "\t\t\t\t\t\t\t\t\t\t\t\tnode=779 leaf node. [class=1]  [0.0,1.5547008547008547]\n",
      "\t\t\t\t\t\t\t\t\t\t\t\tnode=780 leaf node. [class=0]  [0.7370340356564019,0.0]\n",
      "\t\t\t\t\t\t\t\t\t\t\tnode=781 leaf node. [class=1]  [0.0,3.1094017094017095]\n",
      "\t\t\t\t\t\t\t\t\t\tnode=782 leaf node. [class=0]  [0.7370340356564019,0.0]\n",
      "\t\t\t\t\t\t\t\tnode=783 test node: go to node 784 if Temp3pm_Low <= 0.5 else to node 787.\n",
      "\t\t\t\t\t\t\t\t\tnode=784 test node: go to node 785 if WindSpeed9am_High <= 0.5 else to node 786.\n",
      "\t\t\t\t\t\t\t\t\t\tnode=785 leaf node. [class=1]  [0.0,4.664102564102564]\n",
      "\t\t\t\t\t\t\t\t\t\tnode=786 leaf node. [class=0]  [0.7370340356564019,0.0]\n",
      "\t\t\t\t\t\t\t\t\tnode=787 leaf node. [class=1]  [0.0,20.211111111111112]\n",
      "\t\t\t\t\t\t\tnode=788 test node: go to node 789 if Temp9am_High <= 0.5 else to node 836.\n",
      "\t\t\t\t\t\t\t\tnode=789 test node: go to node 790 if Pressure3pm_High <= 0.5 else to node 797.\n",
      "\t\t\t\t\t\t\t\t\tnode=790 test node: go to node 791 if Sunshine_Low <= 0.5 else to node 792.\n",
      "\t\t\t\t\t\t\t\t\t\tnode=791 leaf node. [class=0]  [0.7370340356564019,0.0]\n",
      "\t\t\t\t\t\t\t\t\t\tnode=792 test node: go to node 793 if MinTemp_Moderate <= 0.5 else to node 796.\n",
      "\t\t\t\t\t\t\t\t\t\t\tnode=793 test node: go to node 794 if WindSpeed9am_High <= 0.5 else to node 795.\n",
      "\t\t\t\t\t\t\t\t\t\t\t\tnode=794 leaf node. [class=1]  [0.0,1.5547008547008547]\n",
      "\t\t\t\t\t\t\t\t\t\t\t\tnode=795 leaf node. [class=0]  [0.7370340356564019,0.0]\n",
      "\t\t\t\t\t\t\t\t\t\t\tnode=796 leaf node. [class=1]  [0.0,20.211111111111112]\n",
      "\t\t\t\t\t\t\t\t\tnode=797 test node: go to node 798 if Sunshine_Moderate <= 0.5 else to node 831.\n",
      "\t\t\t\t\t\t\t\t\t\tnode=798 test node: go to node 799 if WindSpeed9am_Moderate <= 0.5 else to node 826.\n",
      "\t\t\t\t\t\t\t\t\t\t\tnode=799 test node: go to node 800 if Temp3pm_Low <= 0.5 else to node 801.\n",
      "\t\t\t\t\t\t\t\t\t\t\t\tnode=800 leaf node. [class=0]  [1.4740680713128038,0.0]\n",
      "\t\t\t\t\t\t\t\t\t\t\t\tnode=801 test node: go to node 802 if Cloud9am_Moderate <= 0.5 else to node 819.\n",
      "\t\t\t\t\t\t\t\t\t\t\t\t\tnode=802 test node: go to node 803 if Temp9am_Moderate <= 0.5 else to node 816.\n",
      "\t\t\t\t\t\t\t\t\t\t\t\t\t\tnode=803 test node: go to node 804 if WindSpeed3pm_Moderate <= 0.5 else to node 815.\n",
      "\t\t\t\t\t\t\t\t\t\t\t\t\t\t\tnode=804 test node: go to node 805 if WindSpeed9am_High <= 0.5 else to node 806.\n",
      "\t\t\t\t\t\t\t\t\t\t\t\t\t\t\t\tnode=805 leaf node. [class=1]  [0.0,1.5547008547008547]\n",
      "\t\t\t\t\t\t\t\t\t\t\t\t\t\t\t\tnode=806 test node: go to node 807 if Cloud9am_High <= 0.5 else to node 808.\n",
      "\t\t\t\t\t\t\t\t\t\t\t\t\t\t\t\t\tnode=807 leaf node. [class=1]  [0.0,1.5547008547008547]\n",
      "\t\t\t\t\t\t\t\t\t\t\t\t\t\t\t\t\tnode=808 test node: go to node 809 if WindSpeed3pm_Low <= 0.5 else to node 812.\n",
      "\t\t\t\t\t\t\t\t\t\t\t\t\t\t\t\t\t\tnode=809 test node: go to node 810 if MinTemp_Moderate <= 0.5 else to node 811.\n",
      "\t\t\t\t\t\t\t\t\t\t\t\t\t\t\t\t\t\t\tnode=810 leaf node. [class=1]  [0.0,1.5547008547008547]\n",
      "\t\t\t\t\t\t\t\t\t\t\t\t\t\t\t\t\t\t\tnode=811 leaf node. [class=0]  [0.7370340356564019,0.0]\n",
      "\t\t\t\t\t\t\t\t\t\t\t\t\t\t\t\t\t\tnode=812 test node: go to node 813 if MinTemp_Low <= 0.5 else to node 814.\n",
      "\t\t\t\t\t\t\t\t\t\t\t\t\t\t\t\t\t\t\tnode=813 leaf node. [class=1]  [0.0,1.5547008547008547]\n",
      "\t\t\t\t\t\t\t\t\t\t\t\t\t\t\t\t\t\t\tnode=814 leaf node. [class=0]  [0.7370340356564019,0.0]\n",
      "\t\t\t\t\t\t\t\t\t\t\t\t\t\t\tnode=815 leaf node. [class=1]  [0.0,4.664102564102564]\n",
      "\t\t\t\t\t\t\t\t\t\t\t\t\t\tnode=816 test node: go to node 817 if MaxTemp_Low <= 0.5 else to node 818.\n",
      "\t\t\t\t\t\t\t\t\t\t\t\t\t\t\tnode=817 leaf node. [class=1]  [0.0,1.5547008547008547]\n",
      "\t\t\t\t\t\t\t\t\t\t\t\t\t\t\tnode=818 leaf node. [class=0]  [0.7370340356564019,0.0]\n",
      "\t\t\t\t\t\t\t\t\t\t\t\t\tnode=819 test node: go to node 820 if WindSpeed9am_Low <= 0.5 else to node 825.\n",
      "\t\t\t\t\t\t\t\t\t\t\t\t\t\tnode=820 test node: go to node 821 if Temp9am_Low <= 0.5 else to node 822.\n",
      "\t\t\t\t\t\t\t\t\t\t\t\t\t\t\tnode=821 leaf node. [class=1]  [0.0,3.1094017094017095]\n",
      "\t\t\t\t\t\t\t\t\t\t\t\t\t\t\tnode=822 test node: go to node 823 if MinTemp_Low <= 0.5 else to node 824.\n",
      "\t\t\t\t\t\t\t\t\t\t\t\t\t\t\t\tnode=823 leaf node. [class=1]  [0.7370340356564019,1.5547008547008547]\n",
      "\t\t\t\t\t\t\t\t\t\t\t\t\t\t\t\tnode=824 leaf node. [class=0]  [0.7370340356564019,0.0]\n",
      "\t\t\t\t\t\t\t\t\t\t\t\t\t\tnode=825 leaf node. [class=0]  [0.7370340356564019,0.0]\n",
      "\t\t\t\t\t\t\t\t\t\t\tnode=826 test node: go to node 827 if Temp9am_Moderate <= 0.5 else to node 830.\n",
      "\t\t\t\t\t\t\t\t\t\t\t\tnode=827 test node: go to node 828 if Temp3pm_Moderate <= 0.5 else to node 829.\n",
      "\t\t\t\t\t\t\t\t\t\t\t\t\tnode=828 leaf node. [class=0]  [3.6851701782820094,0.0]\n",
      "\t\t\t\t\t\t\t\t\t\t\t\t\tnode=829 leaf node. [class=1]  [0.0,1.5547008547008547]\n",
      "\t\t\t\t\t\t\t\t\t\t\t\tnode=830 leaf node. [class=1]  [0.0,1.5547008547008547]\n",
      "\t\t\t\t\t\t\t\t\t\tnode=831 test node: go to node 832 if Cloud9am_Moderate <= 0.5 else to node 833.\n",
      "\t\t\t\t\t\t\t\t\t\t\tnode=832 leaf node. [class=1]  [0.0,9.328205128205129]\n",
      "\t\t\t\t\t\t\t\t\t\t\tnode=833 test node: go to node 834 if Temp3pm_Low <= 0.5 else to node 835.\n",
      "\t\t\t\t\t\t\t\t\t\t\t\tnode=834 leaf node. [class=1]  [0.0,1.5547008547008547]\n",
      "\t\t\t\t\t\t\t\t\t\t\t\tnode=835 leaf node. [class=0]  [0.7370340356564019,0.0]\n",
      "\t\t\t\t\t\t\t\tnode=836 leaf node. [class=0]  [0.7370340356564019,0.0]\n",
      "\t\t\t\t\t\tnode=837 test node: go to node 838 if Humidity9am_Moderate <= 0.5 else to node 859.\n",
      "\t\t\t\t\t\t\tnode=838 test node: go to node 839 if Temp9am_Moderate <= 0.5 else to node 858.\n",
      "\t\t\t\t\t\t\t\tnode=839 test node: go to node 840 if Temp3pm_Low <= 0.5 else to node 857.\n",
      "\t\t\t\t\t\t\t\t\tnode=840 test node: go to node 841 if Evaporation_Moderate <= 0.5 else to node 852.\n",
      "\t\t\t\t\t\t\t\t\t\tnode=841 test node: go to node 842 if WindSpeed3pm_Low <= 0.5 else to node 843.\n",
      "\t\t\t\t\t\t\t\t\t\t\tnode=842 leaf node. [class=1]  [0.0,18.656410256410258]\n",
      "\t\t\t\t\t\t\t\t\t\t\tnode=843 test node: go to node 844 if Cloud9am_High <= 0.5 else to node 845.\n",
      "\t\t\t\t\t\t\t\t\t\t\t\tnode=844 leaf node. [class=1]  [0.0,7.773504273504273]\n",
      "\t\t\t\t\t\t\t\t\t\t\t\tnode=845 test node: go to node 846 if Pressure3pm_Low <= 0.5 else to node 847.\n",
      "\t\t\t\t\t\t\t\t\t\t\t\t\tnode=846 leaf node. [class=1]  [0.0,3.1094017094017095]\n",
      "\t\t\t\t\t\t\t\t\t\t\t\t\tnode=847 test node: go to node 848 if MaxTemp_Moderate <= 0.5 else to node 851.\n",
      "\t\t\t\t\t\t\t\t\t\t\t\t\t\tnode=848 test node: go to node 849 if WindSpeed9am_Low <= 0.5 else to node 850.\n",
      "\t\t\t\t\t\t\t\t\t\t\t\t\t\t\tnode=849 leaf node. [class=1]  [0.7370340356564019,1.5547008547008547]\n",
      "\t\t\t\t\t\t\t\t\t\t\t\t\t\t\tnode=850 leaf node. [class=1]  [0.0,1.5547008547008547]\n",
      "\t\t\t\t\t\t\t\t\t\t\t\t\t\tnode=851 leaf node. [class=0]  [0.7370340356564019,0.0]\n",
      "\t\t\t\t\t\t\t\t\t\tnode=852 test node: go to node 853 if Pressure9am_Moderate <= 0.5 else to node 856.\n",
      "\t\t\t\t\t\t\t\t\t\t\tnode=853 test node: go to node 854 if WindSpeed3pm_High <= 0.5 else to node 855.\n",
      "\t\t\t\t\t\t\t\t\t\t\t\tnode=854 leaf node. [class=1]  [0.0,4.664102564102564]\n",
      "\t\t\t\t\t\t\t\t\t\t\t\tnode=855 leaf node. [class=0]  [0.7370340356564019,0.0]\n",
      "\t\t\t\t\t\t\t\t\t\t\tnode=856 leaf node. [class=0]  [0.7370340356564019,0.0]\n",
      "\t\t\t\t\t\t\t\t\tnode=857 leaf node. [class=1]  [0.0,26.42991452991453]\n",
      "\t\t\t\t\t\t\t\tnode=858 leaf node. [class=1]  [0.0,80.84444444444445]\n",
      "\t\t\t\t\t\t\tnode=859 test node: go to node 860 if Evaporation_High <= 0.5 else to node 861.\n",
      "\t\t\t\t\t\t\t\tnode=860 leaf node. [class=1]  [0.0,7.773504273504273]\n",
      "\t\t\t\t\t\t\t\tnode=861 leaf node. [class=0]  [1.4740680713128038,0.0]\n",
      "\t\t\t\t\tnode=862 test node: go to node 863 if WindSpeed3pm_Low <= 0.5 else to node 884.\n",
      "\t\t\t\t\t\tnode=863 test node: go to node 864 if Pressure9am_Low <= 0.5 else to node 871.\n",
      "\t\t\t\t\t\t\tnode=864 test node: go to node 865 if Cloud3pm_High <= 0.5 else to node 866.\n",
      "\t\t\t\t\t\t\t\tnode=865 leaf node. [class=0]  [0.7370340356564019,0.0]\n",
      "\t\t\t\t\t\t\t\tnode=866 test node: go to node 867 if Sunshine_Moderate <= 0.5 else to node 868.\n",
      "\t\t\t\t\t\t\t\t\tnode=867 leaf node. [class=1]  [0.0,3.1094017094017095]\n",
      "\t\t\t\t\t\t\t\t\tnode=868 test node: go to node 869 if Temp9am_Moderate <= 0.5 else to node 870.\n",
      "\t\t\t\t\t\t\t\t\t\tnode=869 leaf node. [class=1]  [0.0,3.1094017094017095]\n",
      "\t\t\t\t\t\t\t\t\t\tnode=870 leaf node. [class=0]  [1.4740680713128038,0.0]\n",
      "\t\t\t\t\t\t\tnode=871 test node: go to node 872 if Evaporation_Moderate <= 0.5 else to node 879.\n",
      "\t\t\t\t\t\t\t\tnode=872 test node: go to node 873 if Evaporation_High <= 0.5 else to node 878.\n",
      "\t\t\t\t\t\t\t\t\tnode=873 test node: go to node 874 if WindSpeed9am_Low <= 0.5 else to node 875.\n",
      "\t\t\t\t\t\t\t\t\t\tnode=874 leaf node. [class=1]  [0.0,4.664102564102564]\n",
      "\t\t\t\t\t\t\t\t\t\tnode=875 test node: go to node 876 if Cloud9am_High <= 0.5 else to node 877.\n",
      "\t\t\t\t\t\t\t\t\t\t\tnode=876 leaf node. [class=1]  [0.0,3.1094017094017095]\n",
      "\t\t\t\t\t\t\t\t\t\t\tnode=877 leaf node. [class=0]  [0.7370340356564019,0.0]\n",
      "\t\t\t\t\t\t\t\t\tnode=878 leaf node. [class=1]  [0.0,13.992307692307692]\n",
      "\t\t\t\t\t\t\t\tnode=879 test node: go to node 880 if WindSpeed9am_Moderate <= 0.5 else to node 883.\n",
      "\t\t\t\t\t\t\t\t\tnode=880 test node: go to node 881 if Humidity9am_Moderate <= 0.5 else to node 882.\n",
      "\t\t\t\t\t\t\t\t\t\tnode=881 leaf node. [class=1]  [0.0,4.664102564102564]\n",
      "\t\t\t\t\t\t\t\t\t\tnode=882 leaf node. [class=0]  [0.7370340356564019,0.0]\n",
      "\t\t\t\t\t\t\t\t\tnode=883 leaf node. [class=0]  [0.7370340356564019,0.0]\n",
      "\t\t\t\t\t\tnode=884 test node: go to node 885 if WindSpeed9am_Low <= 0.5 else to node 888.\n",
      "\t\t\t\t\t\t\tnode=885 test node: go to node 886 if Humidity9am_Moderate <= 0.5 else to node 887.\n",
      "\t\t\t\t\t\t\t\tnode=886 leaf node. [class=1]  [0.0,7.773504273504273]\n",
      "\t\t\t\t\t\t\t\tnode=887 leaf node. [class=0]  [0.7370340356564019,0.0]\n",
      "\t\t\t\t\t\t\tnode=888 test node: go to node 889 if Temp9am_Moderate <= 0.5 else to node 912.\n",
      "\t\t\t\t\t\t\t\tnode=889 test node: go to node 890 if MaxTemp_Moderate <= 0.5 else to node 911.\n",
      "\t\t\t\t\t\t\t\t\tnode=890 test node: go to node 891 if Pressure9am_Low <= 0.5 else to node 892.\n",
      "\t\t\t\t\t\t\t\t\t\tnode=891 leaf node. [class=0]  [0.7370340356564019,0.0]\n",
      "\t\t\t\t\t\t\t\t\t\tnode=892 test node: go to node 893 if Sunshine_Low <= 0.5 else to node 908.\n",
      "\t\t\t\t\t\t\t\t\t\t\tnode=893 test node: go to node 894 if Evaporation_Moderate <= 0.5 else to node 907.\n",
      "\t\t\t\t\t\t\t\t\t\t\t\tnode=894 test node: go to node 895 if Cloud9am_Low <= 0.5 else to node 906.\n",
      "\t\t\t\t\t\t\t\t\t\t\t\t\tnode=895 test node: go to node 896 if Cloud3pm_Low <= 0.5 else to node 903.\n",
      "\t\t\t\t\t\t\t\t\t\t\t\t\t\tnode=896 test node: go to node 897 if Evaporation_Low <= 0.5 else to node 898.\n",
      "\t\t\t\t\t\t\t\t\t\t\t\t\t\t\tnode=897 leaf node. [class=1]  [0.0,3.1094017094017095]\n",
      "\t\t\t\t\t\t\t\t\t\t\t\t\t\t\tnode=898 test node: go to node 899 if Humidity9am_High <= 0.5 else to node 902.\n",
      "\t\t\t\t\t\t\t\t\t\t\t\t\t\t\t\tnode=899 test node: go to node 900 if Cloud9am_High <= 0.5 else to node 901.\n",
      "\t\t\t\t\t\t\t\t\t\t\t\t\t\t\t\t\tnode=900 leaf node. [class=1]  [0.0,1.5547008547008547]\n",
      "\t\t\t\t\t\t\t\t\t\t\t\t\t\t\t\t\tnode=901 leaf node. [class=0]  [0.7370340356564019,0.0]\n",
      "\t\t\t\t\t\t\t\t\t\t\t\t\t\t\t\tnode=902 leaf node. [class=0]  [0.7370340356564019,0.0]\n",
      "\t\t\t\t\t\t\t\t\t\t\t\t\t\tnode=903 test node: go to node 904 if Cloud9am_Moderate <= 0.5 else to node 905.\n",
      "\t\t\t\t\t\t\t\t\t\t\t\t\t\t\tnode=904 leaf node. [class=1]  [0.7370340356564019,1.5547008547008547]\n",
      "\t\t\t\t\t\t\t\t\t\t\t\t\t\t\tnode=905 leaf node. [class=0]  [0.7370340356564019,0.0]\n",
      "\t\t\t\t\t\t\t\t\t\t\t\t\tnode=906 leaf node. [class=0]  [0.7370340356564019,0.0]\n",
      "\t\t\t\t\t\t\t\t\t\t\t\tnode=907 leaf node. [class=1]  [0.0,1.5547008547008547]\n",
      "\t\t\t\t\t\t\t\t\t\t\tnode=908 test node: go to node 909 if Evaporation_Low <= 0.5 else to node 910.\n",
      "\t\t\t\t\t\t\t\t\t\t\t\tnode=909 leaf node. [class=1]  [0.7370340356564019,1.5547008547008547]\n",
      "\t\t\t\t\t\t\t\t\t\t\t\tnode=910 leaf node. [class=1]  [0.0,1.5547008547008547]\n",
      "\t\t\t\t\t\t\t\t\tnode=911 leaf node. [class=1]  [0.0,4.664102564102564]\n",
      "\t\t\t\t\t\t\t\tnode=912 test node: go to node 913 if Evaporation_High <= 0.5 else to node 918.\n",
      "\t\t\t\t\t\t\t\t\tnode=913 test node: go to node 914 if Pressure9am_Moderate <= 0.5 else to node 917.\n",
      "\t\t\t\t\t\t\t\t\t\tnode=914 test node: go to node 915 if MaxTemp_High <= 0.5 else to node 916.\n",
      "\t\t\t\t\t\t\t\t\t\t\tnode=915 leaf node. [class=1]  [0.7370340356564019,1.5547008547008547]\n",
      "\t\t\t\t\t\t\t\t\t\t\tnode=916 leaf node. [class=0]  [0.7370340356564019,0.0]\n",
      "\t\t\t\t\t\t\t\t\t\tnode=917 leaf node. [class=1]  [0.0,1.5547008547008547]\n",
      "\t\t\t\t\t\t\t\t\tnode=918 leaf node. [class=0]  [1.4740680713128038,0.0]\n",
      "\t\t\t\tnode=919 test node: go to node 920 if Humidity9am_Moderate <= 0.5 else to node 1015.\n",
      "\t\t\t\t\tnode=920 test node: go to node 921 if WindSpeed3pm_Low <= 0.5 else to node 984.\n",
      "\t\t\t\t\t\tnode=921 test node: go to node 922 if Pressure9am_High <= 0.5 else to node 963.\n",
      "\t\t\t\t\t\t\tnode=922 test node: go to node 923 if Cloud9am_Low <= 0.5 else to node 960.\n",
      "\t\t\t\t\t\t\t\tnode=923 test node: go to node 924 if WindSpeed9am_High <= 0.5 else to node 957.\n",
      "\t\t\t\t\t\t\t\t\tnode=924 test node: go to node 925 if Temp3pm_Moderate <= 0.5 else to node 948.\n",
      "\t\t\t\t\t\t\t\t\t\tnode=925 test node: go to node 926 if MaxTemp_Moderate <= 0.5 else to node 947.\n",
      "\t\t\t\t\t\t\t\t\t\t\tnode=926 test node: go to node 927 if WindSpeed3pm_Moderate <= 0.5 else to node 928.\n",
      "\t\t\t\t\t\t\t\t\t\t\t\tnode=927 leaf node. [class=0]  [0.7370340356564019,0.0]\n",
      "\t\t\t\t\t\t\t\t\t\t\t\tnode=928 test node: go to node 929 if Cloud9am_Moderate <= 0.5 else to node 936.\n",
      "\t\t\t\t\t\t\t\t\t\t\t\t\tnode=929 test node: go to node 930 if Sunshine_Moderate <= 0.5 else to node 935.\n",
      "\t\t\t\t\t\t\t\t\t\t\t\t\t\tnode=930 test node: go to node 931 if WindSpeed9am_Moderate <= 0.5 else to node 934.\n",
      "\t\t\t\t\t\t\t\t\t\t\t\t\t\t\tnode=931 test node: go to node 932 if MinTemp_High <= 0.5 else to node 933.\n",
      "\t\t\t\t\t\t\t\t\t\t\t\t\t\t\t\tnode=932 leaf node. [class=1]  [0.7370340356564019,1.5547008547008547]\n",
      "\t\t\t\t\t\t\t\t\t\t\t\t\t\t\t\tnode=933 leaf node. [class=1]  [0.0,1.5547008547008547]\n",
      "\t\t\t\t\t\t\t\t\t\t\t\t\t\t\tnode=934 leaf node. [class=0]  [0.7370340356564019,0.0]\n",
      "\t\t\t\t\t\t\t\t\t\t\t\t\t\tnode=935 leaf node. [class=1]  [0.0,7.773504273504273]\n",
      "\t\t\t\t\t\t\t\t\t\t\t\t\tnode=936 test node: go to node 937 if Pressure3pm_Moderate <= 0.5 else to node 946.\n",
      "\t\t\t\t\t\t\t\t\t\t\t\t\t\tnode=937 test node: go to node 938 if Sunshine_Moderate <= 0.5 else to node 941.\n",
      "\t\t\t\t\t\t\t\t\t\t\t\t\t\t\tnode=938 test node: go to node 939 if Evaporation_High <= 0.5 else to node 940.\n",
      "\t\t\t\t\t\t\t\t\t\t\t\t\t\t\t\tnode=939 leaf node. [class=1]  [0.0,1.5547008547008547]\n",
      "\t\t\t\t\t\t\t\t\t\t\t\t\t\t\t\tnode=940 leaf node. [class=0]  [0.7370340356564019,0.0]\n",
      "\t\t\t\t\t\t\t\t\t\t\t\t\t\t\tnode=941 test node: go to node 942 if Evaporation_High <= 0.5 else to node 945.\n",
      "\t\t\t\t\t\t\t\t\t\t\t\t\t\t\t\tnode=942 test node: go to node 943 if Temp9am_Moderate <= 0.5 else to node 944.\n",
      "\t\t\t\t\t\t\t\t\t\t\t\t\t\t\t\t\tnode=943 leaf node. [class=1]  [0.7370340356564019,1.5547008547008547]\n",
      "\t\t\t\t\t\t\t\t\t\t\t\t\t\t\t\t\tnode=944 leaf node. [class=0]  [0.7370340356564019,0.0]\n",
      "\t\t\t\t\t\t\t\t\t\t\t\t\t\t\t\tnode=945 leaf node. [class=1]  [0.0,1.5547008547008547]\n",
      "\t\t\t\t\t\t\t\t\t\t\t\t\t\tnode=946 leaf node. [class=0]  [0.7370340356564019,0.0]\n",
      "\t\t\t\t\t\t\t\t\t\t\tnode=947 leaf node. [class=0]  [1.4740680713128038,0.0]\n",
      "\t\t\t\t\t\t\t\t\t\tnode=948 test node: go to node 949 if Sunshine_Moderate <= 0.5 else to node 954.\n",
      "\t\t\t\t\t\t\t\t\t\t\tnode=949 test node: go to node 950 if Pressure9am_Low <= 0.5 else to node 951.\n",
      "\t\t\t\t\t\t\t\t\t\t\t\tnode=950 leaf node. [class=1]  [0.0,9.328205128205129]\n",
      "\t\t\t\t\t\t\t\t\t\t\t\tnode=951 test node: go to node 952 if MaxTemp_Moderate <= 0.5 else to node 953.\n",
      "\t\t\t\t\t\t\t\t\t\t\t\t\tnode=952 leaf node. [class=1]  [0.7370340356564019,1.5547008547008547]\n",
      "\t\t\t\t\t\t\t\t\t\t\t\t\tnode=953 leaf node. [class=1]  [0.0,1.5547008547008547]\n",
      "\t\t\t\t\t\t\t\t\t\t\tnode=954 test node: go to node 955 if Pressure9am_Moderate <= 0.5 else to node 956.\n",
      "\t\t\t\t\t\t\t\t\t\t\t\tnode=955 leaf node. [class=1]  [0.0,1.5547008547008547]\n",
      "\t\t\t\t\t\t\t\t\t\t\t\tnode=956 leaf node. [class=0]  [1.4740680713128038,0.0]\n",
      "\t\t\t\t\t\t\t\t\tnode=957 test node: go to node 958 if MinTemp_Moderate <= 0.5 else to node 959.\n",
      "\t\t\t\t\t\t\t\t\t\tnode=958 leaf node. [class=1]  [0.0,12.437606837606838]\n",
      "\t\t\t\t\t\t\t\t\t\tnode=959 leaf node. [class=0]  [0.7370340356564019,0.0]\n",
      "\t\t\t\t\t\t\t\tnode=960 test node: go to node 961 if MaxTemp_Low <= 0.5 else to node 962.\n",
      "\t\t\t\t\t\t\t\t\tnode=961 leaf node. [class=0]  [2.211102106969206,0.0]\n",
      "\t\t\t\t\t\t\t\t\tnode=962 leaf node. [class=1]  [0.0,1.5547008547008547]\n",
      "\t\t\t\t\t\t\tnode=963 test node: go to node 964 if WindSpeed9am_Low <= 0.5 else to node 979.\n",
      "\t\t\t\t\t\t\t\tnode=964 test node: go to node 965 if MinTemp_Low <= 0.5 else to node 972.\n",
      "\t\t\t\t\t\t\t\t\tnode=965 test node: go to node 966 if Temp3pm_Low <= 0.5 else to node 971.\n",
      "\t\t\t\t\t\t\t\t\t\tnode=966 test node: go to node 967 if MaxTemp_Moderate <= 0.5 else to node 970.\n",
      "\t\t\t\t\t\t\t\t\t\t\tnode=967 test node: go to node 968 if WindSpeed3pm_High <= 0.5 else to node 969.\n",
      "\t\t\t\t\t\t\t\t\t\t\t\tnode=968 leaf node. [class=1]  [0.0,1.5547008547008547]\n",
      "\t\t\t\t\t\t\t\t\t\t\t\tnode=969 leaf node. [class=1]  [0.7370340356564019,1.5547008547008547]\n",
      "\t\t\t\t\t\t\t\t\t\t\tnode=970 leaf node. [class=1]  [0.0,9.328205128205129]\n",
      "\t\t\t\t\t\t\t\t\t\tnode=971 leaf node. [class=1]  [0.0,15.547008547008547]\n",
      "\t\t\t\t\t\t\t\t\tnode=972 test node: go to node 973 if Evaporation_Moderate <= 0.5 else to node 978.\n",
      "\t\t\t\t\t\t\t\t\t\tnode=973 test node: go to node 974 if Cloud9am_Moderate <= 0.5 else to node 975.\n",
      "\t\t\t\t\t\t\t\t\t\t\tnode=974 leaf node. [class=1]  [0.0,6.218803418803419]\n",
      "\t\t\t\t\t\t\t\t\t\t\tnode=975 test node: go to node 976 if Sunshine_Moderate <= 0.5 else to node 977.\n",
      "\t\t\t\t\t\t\t\t\t\t\t\tnode=976 leaf node. [class=1]  [0.0,1.5547008547008547]\n",
      "\t\t\t\t\t\t\t\t\t\t\t\tnode=977 leaf node. [class=0]  [0.7370340356564019,0.0]\n",
      "\t\t\t\t\t\t\t\t\t\tnode=978 leaf node. [class=0]  [0.7370340356564019,0.0]\n",
      "\t\t\t\t\t\t\t\tnode=979 test node: go to node 980 if Cloud9am_Moderate <= 0.5 else to node 983.\n",
      "\t\t\t\t\t\t\t\t\tnode=980 test node: go to node 981 if Temp3pm_Moderate <= 0.5 else to node 982.\n",
      "\t\t\t\t\t\t\t\t\t\tnode=981 leaf node. [class=1]  [0.0,3.1094017094017095]\n",
      "\t\t\t\t\t\t\t\t\t\tnode=982 leaf node. [class=0]  [0.7370340356564019,0.0]\n",
      "\t\t\t\t\t\t\t\t\tnode=983 leaf node. [class=0]  [0.7370340356564019,0.0]\n",
      "\t\t\t\t\t\tnode=984 test node: go to node 985 if Evaporation_High <= 0.5 else to node 1012.\n",
      "\t\t\t\t\t\t\tnode=985 test node: go to node 986 if Temp3pm_Low <= 0.5 else to node 1009.\n",
      "\t\t\t\t\t\t\t\tnode=986 test node: go to node 987 if Cloud9am_Moderate <= 0.5 else to node 992.\n",
      "\t\t\t\t\t\t\t\t\tnode=987 test node: go to node 988 if Evaporation_Low <= 0.5 else to node 991.\n",
      "\t\t\t\t\t\t\t\t\t\tnode=988 test node: go to node 989 if Sunshine_Moderate <= 0.5 else to node 990.\n",
      "\t\t\t\t\t\t\t\t\t\t\tnode=989 leaf node. [class=1]  [0.0,3.1094017094017095]\n",
      "\t\t\t\t\t\t\t\t\t\t\tnode=990 leaf node. [class=0]  [0.7370340356564019,0.0]\n",
      "\t\t\t\t\t\t\t\t\t\tnode=991 leaf node. [class=1]  [0.0,10.882905982905983]\n",
      "\t\t\t\t\t\t\t\t\tnode=992 test node: go to node 993 if MaxTemp_High <= 0.5 else to node 1004.\n",
      "\t\t\t\t\t\t\t\t\t\tnode=993 test node: go to node 994 if MaxTemp_Moderate <= 0.5 else to node 995.\n",
      "\t\t\t\t\t\t\t\t\t\t\tnode=994 leaf node. [class=0]  [0.7370340356564019,0.0]\n",
      "\t\t\t\t\t\t\t\t\t\t\tnode=995 test node: go to node 996 if Sunshine_Moderate <= 0.5 else to node 1003.\n",
      "\t\t\t\t\t\t\t\t\t\t\t\tnode=996 test node: go to node 997 if Temp3pm_High <= 0.5 else to node 1002.\n",
      "\t\t\t\t\t\t\t\t\t\t\t\t\tnode=997 test node: go to node 998 if Evaporation_Moderate <= 0.5 else to node 1001.\n",
      "\t\t\t\t\t\t\t\t\t\t\t\t\t\tnode=998 test node: go to node 999 if Temp9am_Moderate <= 0.5 else to node 1000.\n",
      "\t\t\t\t\t\t\t\t\t\t\t\t\t\t\tnode=999 leaf node. [class=1]  [0.0,1.5547008547008547]\n",
      "\t\t\t\t\t\t\t\t\t\t\t\t\t\t\tnode=1000 leaf node. [class=0]  [0.7370340356564019,0.0]\n",
      "\t\t\t\t\t\t\t\t\t\t\t\t\t\tnode=1001 leaf node. [class=0]  [0.7370340356564019,0.0]\n",
      "\t\t\t\t\t\t\t\t\t\t\t\t\tnode=1002 leaf node. [class=0]  [0.7370340356564019,0.0]\n",
      "\t\t\t\t\t\t\t\t\t\t\t\tnode=1003 leaf node. [class=1]  [0.0,1.5547008547008547]\n",
      "\t\t\t\t\t\t\t\t\t\tnode=1004 test node: go to node 1005 if WindSpeed9am_Low <= 0.5 else to node 1008.\n",
      "\t\t\t\t\t\t\t\t\t\t\tnode=1005 test node: go to node 1006 if Sunshine_Moderate <= 0.5 else to node 1007.\n",
      "\t\t\t\t\t\t\t\t\t\t\t\tnode=1006 leaf node. [class=1]  [0.0,1.5547008547008547]\n",
      "\t\t\t\t\t\t\t\t\t\t\t\tnode=1007 leaf node. [class=0]  [0.7370340356564019,0.0]\n",
      "\t\t\t\t\t\t\t\t\t\t\tnode=1008 leaf node. [class=1]  [0.0,4.664102564102564]\n",
      "\t\t\t\t\t\t\t\tnode=1009 test node: go to node 1010 if MinTemp_Moderate <= 0.5 else to node 1011.\n",
      "\t\t\t\t\t\t\t\t\tnode=1010 leaf node. [class=1]  [0.7370340356564019,1.5547008547008547]\n",
      "\t\t\t\t\t\t\t\t\tnode=1011 leaf node. [class=0]  [2.211102106969206,0.0]\n",
      "\t\t\t\t\t\t\tnode=1012 test node: go to node 1013 if WindSpeed9am_High <= 0.5 else to node 1014.\n",
      "\t\t\t\t\t\t\t\tnode=1013 leaf node. [class=0]  [3.6851701782820094,0.0]\n",
      "\t\t\t\t\t\t\t\tnode=1014 leaf node. [class=1]  [0.0,1.5547008547008547]\n",
      "\t\t\t\t\tnode=1015 test node: go to node 1016 if Pressure3pm_High <= 0.5 else to node 1021.\n",
      "\t\t\t\t\t\tnode=1016 test node: go to node 1017 if Evaporation_Low <= 0.5 else to node 1018.\n",
      "\t\t\t\t\t\t\tnode=1017 leaf node. [class=0]  [3.6851701782820094,0.0]\n",
      "\t\t\t\t\t\t\tnode=1018 test node: go to node 1019 if MinTemp_Moderate <= 0.5 else to node 1020.\n",
      "\t\t\t\t\t\t\t\tnode=1019 leaf node. [class=1]  [0.7370340356564019,1.5547008547008547]\n",
      "\t\t\t\t\t\t\t\tnode=1020 leaf node. [class=0]  [1.4740680713128038,0.0]\n",
      "\t\t\t\t\t\tnode=1021 leaf node. [class=1]  [0.0,1.5547008547008547]\n",
      "\t\t\tnode=1022 test node: go to node 1023 if Cloud3pm_High <= 0.5 else to node 1024.\n",
      "\t\t\t\tnode=1023 leaf node. [class=0]  [5.896272285251215,0.0]\n",
      "\t\t\t\tnode=1024 test node: go to node 1025 if WindSpeed3pm_High <= 0.5 else to node 1028.\n",
      "\t\t\t\t\tnode=1025 test node: go to node 1026 if WindSpeed3pm_Moderate <= 0.5 else to node 1027.\n",
      "\t\t\t\t\t\tnode=1026 leaf node. [class=1]  [0.7370340356564019,1.5547008547008547]\n",
      "\t\t\t\t\t\tnode=1027 leaf node. [class=1]  [0.0,3.1094017094017095]\n",
      "\t\t\t\t\tnode=1028 leaf node. [class=0]  [0.7370340356564019,0.0]\n",
      "\n"
     ]
    }
   ],
   "source": [
    "dtutils.print_dt(dtclf, feature_names=flabels)"
   ]
  },
  {
   "cell_type": "markdown",
   "metadata": {},
   "source": [
    "# Question\t4:\tDiagnosis\n",
    "Does the Decision Tree model suffer from overfitting or underfitting? Justify why/why not.\n",
    "If the model exhibits overfitting or underfitting, revise your training procedure to remedy the problem, and\n",
    "re-evaluate the improved model. The DecisionTreeClassifier has a number of parameters that you can\n",
    "consider for tuning the model:\n",
    "\n",
    "* max_depth: maximum depth of the tree\n",
    "* min_samples_leaf: minimum number of samples in each leaf node\n",
    "* max_leaf_nodes: maximum number of leaf nodes\n",
    "\n",
    "## Answer : Our Decision Tree model Suffers from ovefitting."
   ]
  },
  {
   "cell_type": "markdown",
   "metadata": {},
   "source": [
    "First, we try to find out the best parameters for our decision tree:"
   ]
  },
  {
   "cell_type": "code",
   "execution_count": 28,
   "metadata": {},
   "outputs": [],
   "source": [
    "max_msl = max_md = max_mnl = max_acc = None\n",
    "\n",
    "for msl, md, mnl in product(range(2,15), range(5, 50, 5), range(5, 100, 10)):\n",
    "    options = dict(min_samples_leaf=msl, max_depth=md, max_leaf_nodes=mnl)\n",
    "    clf3 = DecisionTreeClassifier(class_weight = \"balanced\", **options)\n",
    "    clf3.fit(X_train, Y_train)\n",
    "\n",
    "    Y_test_pred = clf3.predict(X_test)\n",
    "    \n",
    "    curr_acc = accuracy_score(Y_test, Y_test_pred)\n",
    "    if max_acc == None or max_acc < curr_acc:\n",
    "        max_msl, max_md, max_mnl, max_acc = msl, md, mnl, curr_acc"
   ]
  },
  {
   "cell_type": "markdown",
   "metadata": {},
   "source": [
    "Then we use those parameters to evaluate the performance of our new model with best params:"
   ]
  },
  {
   "cell_type": "code",
   "execution_count": 29,
   "metadata": {},
   "outputs": [
    {
     "name": "stdout",
     "output_type": "stream",
     "text": [
      "             precision    recall  f1-score   support\n",
      "\n",
      "          0       0.86      0.77      0.82      1234\n",
      "          1       0.61      0.74      0.67       585\n",
      "\n",
      "avg / total       0.78      0.76      0.77      1819\n",
      "\n",
      "Accuracy on TRAINING set: 0.76\n",
      "\n",
      "             precision    recall  f1-score   support\n",
      "\n",
      "          0       0.83      0.78      0.80       607\n",
      "          1       0.59      0.67      0.63       290\n",
      "\n",
      "avg / total       0.75      0.74      0.75       897\n",
      "\n",
      "Accuracy on TEST set: 0.74\n",
      "\n",
      "Confused Matrix[ TRAINING ]: \n",
      "   0   1 <-- PREDICTED LABEL\n",
      "[[954 280]\n",
      " [153 432]]\n",
      "Confused Matrix[ TEST ]: \n",
      "   0   1 <-- PREDICTED LABEL\n",
      "[[471 136]\n",
      " [ 95 195]]\n"
     ]
    }
   ],
   "source": [
    "best_params = dict(min_samples_leaf=max_msl, max_depth=max_md, max_leaf_nodes=max_mnl)\n",
    "\n",
    "clf3 = DecisionTreeClassifier(class_weight = \"balanced\", **best_params)\n",
    "clf3.fit(X_train, Y_train)\n",
    "\n",
    "dtb_Y_train_pred = clf3.predict(X_train)\n",
    "dtb_Y_test_pred = clf3.predict(X_test)\n",
    "\n",
    "print(classification_report(Y_train,dtb_Y_train_pred))\n",
    "print('Accuracy on TRAINING set: {:.2f}'.format(accuracy_score(Y_train,dtb_Y_train_pred))+\"\\n\")\n",
    "\n",
    "print(classification_report(Y_test, dtb_Y_test_pred))\n",
    "print('Accuracy on TEST set: {:.2f}'.format(accuracy_score(Y_test, dtb_Y_test_pred))+\"\\n\")\n",
    "\n",
    "print(\"Confused Matrix[ TRAINING ]: \\n\",\" \".join([\"{:3d}\".format(d) for d in clf3.classes_]),\"<-- PREDICTED LABEL\")\n",
    "print(confusion_matrix(Y_train, dtb_Y_train_pred, labels=clf3.classes_))\n",
    "\n",
    "print(\"Confused Matrix[ TEST ]: \\n\",\" \".join([\"{:3d}\".format(d) for d in clf3.classes_]),\"<-- PREDICTED LABEL\")\n",
    "print(confusion_matrix(Y_test, dtb_Y_test_pred, labels=clf3.classes_))"
   ]
  },
  {
   "cell_type": "code",
   "execution_count": 30,
   "metadata": {},
   "outputs": [
    {
     "name": "stdout",
     "output_type": "stream",
     "text": [
      "[0.22749908 0.77250092]\n"
     ]
    }
   ],
   "source": [
    "dt_Y_pred_proba = clf3.predict_proba(X_test)\n",
    "print(dt_Y_pred_proba[0])"
   ]
  },
  {
   "cell_type": "markdown",
   "metadata": {},
   "source": [
    "### Random Forest"
   ]
  },
  {
   "cell_type": "code",
   "execution_count": 31,
   "metadata": {},
   "outputs": [
    {
     "data": {
      "text/plain": [
       "RandomForestClassifier(bootstrap=True, class_weight=None, criterion='gini',\n",
       "            max_depth=2, max_features='auto', max_leaf_nodes=None,\n",
       "            min_impurity_decrease=0.0, min_impurity_split=None,\n",
       "            min_samples_leaf=1, min_samples_split=2,\n",
       "            min_weight_fraction_leaf=0.0, n_estimators=10, n_jobs=1,\n",
       "            oob_score=False, random_state=0, verbose=0, warm_start=False)"
      ]
     },
     "execution_count": 31,
     "metadata": {},
     "output_type": "execute_result"
    }
   ],
   "source": [
    "rclf  = RandomForestClassifier(max_depth=2, random_state=0)\n",
    "rclf.fit(X_train, Y_train)"
   ]
  },
  {
   "cell_type": "code",
   "execution_count": 32,
   "metadata": {},
   "outputs": [
    {
     "name": "stdout",
     "output_type": "stream",
     "text": [
      "[0 1]\n"
     ]
    }
   ],
   "source": [
    "print(rclf.classes_)"
   ]
  },
  {
   "cell_type": "code",
   "execution_count": 33,
   "metadata": {},
   "outputs": [],
   "source": [
    "r_Y_train_pred = rclf.predict(X_train)\n",
    "r_Y_test_pred = rclf.predict(X_test)"
   ]
  },
  {
   "cell_type": "code",
   "execution_count": 34,
   "metadata": {},
   "outputs": [
    {
     "name": "stdout",
     "output_type": "stream",
     "text": [
      "Correctly predicted on TRAINING SET: 1413, errors:406\n"
     ]
    }
   ],
   "source": [
    "print('Correctly predicted on TRAINING SET: {}, errors:{}'.\n",
    "      format(sum(Y_train==r_Y_train_pred), sum(Y_train!=r_Y_train_pred)))"
   ]
  },
  {
   "cell_type": "code",
   "execution_count": 35,
   "metadata": {},
   "outputs": [
    {
     "name": "stdout",
     "output_type": "stream",
     "text": [
      "Correctly predicted on TEST set: 696, errors:201\n"
     ]
    }
   ],
   "source": [
    "print('Correctly predicted on TEST set: {}, errors:{}'.format(sum(Y_test==r_Y_test_pred), sum(Y_test!=r_Y_test_pred)))"
   ]
  },
  {
   "cell_type": "code",
   "execution_count": 36,
   "metadata": {},
   "outputs": [
    {
     "name": "stdout",
     "output_type": "stream",
     "text": [
      "             precision    recall  f1-score   support\n",
      "\n",
      "          0       0.78      0.93      0.85      1234\n",
      "          1       0.75      0.46      0.57       585\n",
      "\n",
      "avg / total       0.77      0.78      0.76      1819\n",
      "\n",
      "Accuracy on TRAINING set: 0.78\n"
     ]
    }
   ],
   "source": [
    "print(classification_report(Y_train,r_Y_train_pred))\n",
    "print('Accuracy on TRAINING set: {:.2f}'.format(accuracy_score(Y_train, r_Y_train_pred)))"
   ]
  },
  {
   "cell_type": "code",
   "execution_count": 37,
   "metadata": {},
   "outputs": [
    {
     "name": "stdout",
     "output_type": "stream",
     "text": [
      "             precision    recall  f1-score   support\n",
      "\n",
      "          0       0.78      0.93      0.85       607\n",
      "          1       0.75      0.46      0.57       290\n",
      "\n",
      "avg / total       0.77      0.78      0.76       897\n",
      "\n",
      "Accuracy on TEST set: 0.78\n"
     ]
    }
   ],
   "source": [
    "print(classification_report(Y_test, r_Y_test_pred))\n",
    "print('Accuracy on TEST set: {:.2f}'.format(accuracy_score(Y_test, r_Y_test_pred)))"
   ]
  },
  {
   "cell_type": "code",
   "execution_count": 38,
   "metadata": {},
   "outputs": [
    {
     "name": "stdout",
     "output_type": "stream",
     "text": [
      "Confused Matrix:[ TRAINING ] \n",
      "   0   1 <-- PREDICTED LABEL\n",
      "[[1144   90]\n",
      " [ 316  269]]\n"
     ]
    }
   ],
   "source": [
    "print(\"Confused Matrix:[ TRAINING ] \\n\",\" \".join([\"{:3d}\".format(d) for d in rclf.classes_]),\"<-- PREDICTED LABEL\")\n",
    "print(confusion_matrix(Y_train, r_Y_train_pred, labels=rclf.classes_))"
   ]
  },
  {
   "cell_type": "code",
   "execution_count": 39,
   "metadata": {},
   "outputs": [
    {
     "name": "stdout",
     "output_type": "stream",
     "text": [
      "Confused Matrix:[ TEST ] \n",
      "   0   1 <-- PREDICTED LABEL\n",
      "[[562  45]\n",
      " [156 134]]\n"
     ]
    }
   ],
   "source": [
    "print(\"Confused Matrix:[ TEST ] \\n\",\" \".join([\"{:3d}\".format(d) for d in rclf.classes_]),\"<-- PREDICTED LABEL\")\n",
    "print(confusion_matrix(Y_test, r_Y_test_pred, labels=rclf.classes_))"
   ]
  },
  {
   "cell_type": "code",
   "execution_count": 40,
   "metadata": {},
   "outputs": [
    {
     "name": "stdout",
     "output_type": "stream",
     "text": [
      "[0.44341298 0.55658702]\n"
     ]
    }
   ],
   "source": [
    "r_Y_pred_proba = rclf.predict_proba(X_test)\n",
    "print(r_Y_pred_proba[0])"
   ]
  }
 ],
 "metadata": {
  "kernelspec": {
   "display_name": "Python 3",
   "language": "python",
   "name": "python3"
  },
  "language_info": {
   "codemirror_mode": {
    "name": "ipython",
    "version": 3
   },
   "file_extension": ".py",
   "mimetype": "text/x-python",
   "name": "python",
   "nbconvert_exporter": "python",
   "pygments_lexer": "ipython3",
   "version": "3.6.5"
  }
 },
 "nbformat": 4,
 "nbformat_minor": 2
}
